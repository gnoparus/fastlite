{
  "cells": [
    {
      "cell_type": "markdown",
      "metadata": {
        "id": "FPXpdP3Q-xa2"
      },
      "source": [
        "# fastlite\n",
        "\n",
        "> A bit of extra usability for sqlite\n",
        "\n",
        "- image: \"images/diagram.png\""
      ]
    },
    {
      "cell_type": "markdown",
      "metadata": {
        "id": "_ugfvUHJ-xbG"
      },
      "source": [
        "`fastlite` provides some little quality-of-life improvements for interactive use of the wonderful [sqlite-utils](https://sqlite-utils.datasette.io/) library. It's likely to be particularly of interest to folks using Jupyter."
      ]
    },
    {
      "cell_type": "markdown",
      "metadata": {
        "id": "iK3LNJx7-xbP"
      },
      "source": [
        "## Install"
      ]
    },
    {
      "cell_type": "markdown",
      "metadata": {
        "id": "vkUi_Z2Y-xbQ"
      },
      "source": [
        "```\n",
        "pip install fastlite\n",
        "```"
      ]
    },
    {
      "cell_type": "markdown",
      "metadata": {
        "id": "TLa8PJSl-xbR"
      },
      "source": [
        "## Overview"
      ]
    },
    {
      "cell_type": "code",
      "source": [
        "! pip install fastlite"
      ],
      "metadata": {
        "id": "iRoJePuNAOcI",
        "outputId": "b3cd4aa0-979b-472b-c45e-eeab9d96404d",
        "colab": {
          "base_uri": "https://localhost:8080/"
        }
      },
      "execution_count": 1,
      "outputs": [
        {
          "output_type": "stream",
          "name": "stdout",
          "text": [
            "Requirement already satisfied: fastlite in /usr/local/lib/python3.10/dist-packages (0.0.11)\n",
            "Requirement already satisfied: fastcore>=1.7.1 in /usr/local/lib/python3.10/dist-packages (from fastlite) (1.7.8)\n",
            "Requirement already satisfied: sqlite-minutils>=3.37 in /usr/local/lib/python3.10/dist-packages (from fastlite) (3.37.0.post3)\n",
            "Requirement already satisfied: packaging in /usr/local/lib/python3.10/dist-packages (from fastcore>=1.7.1->fastlite) (24.1)\n"
          ]
        }
      ]
    },
    {
      "cell_type": "code",
      "execution_count": 2,
      "metadata": {
        "id": "xPk1rkLV-xbT"
      },
      "outputs": [],
      "source": [
        "from fastlite import *\n",
        "from fastcore.utils import *\n",
        "from fastcore.net import urlsave"
      ]
    },
    {
      "cell_type": "markdown",
      "metadata": {
        "id": "ZbhWGJPy-xbX"
      },
      "source": [
        "We demonstrate `fastlite`'s features here using the 'chinook' sample database."
      ]
    },
    {
      "cell_type": "code",
      "execution_count": 3,
      "metadata": {
        "id": "GNSS3X13-xbY"
      },
      "outputs": [],
      "source": [
        "#| hide\n",
        "Path('chinook.sqlite').unlink(missing_ok=True)\n",
        "Path('chinook.sqlite-shm').unlink(missing_ok=True)\n",
        "Path('chinook.sqlite-wal').unlink(missing_ok=True)"
      ]
    },
    {
      "cell_type": "code",
      "execution_count": 4,
      "metadata": {
        "id": "aMSE22jc-xba"
      },
      "outputs": [],
      "source": [
        "url = 'https://github.com/lerocha/chinook-database/raw/master/ChinookDatabase/DataSources/Chinook_Sqlite.sqlite'\n",
        "path = Path('chinook.sqlite')\n",
        "if not path.exists(): urlsave(url, path)\n",
        "\n",
        "db = database(\"chinook.sqlite\")"
      ]
    },
    {
      "cell_type": "markdown",
      "metadata": {
        "id": "yyJrIRDj-xbb"
      },
      "source": [
        "Databases have a `t` property that lists all tables:"
      ]
    },
    {
      "cell_type": "code",
      "execution_count": 5,
      "metadata": {
        "id": "D2GLcdfv-xbc",
        "outputId": "9c023abc-8689-406d-cad7-a62481bbd17b",
        "colab": {
          "base_uri": "https://localhost:8080/"
        }
      },
      "outputs": [
        {
          "output_type": "execute_result",
          "data": {
            "text/plain": [
              "Album, Artist, Customer, Employee, Genre, Invoice, InvoiceLine, MediaType, Playlist, PlaylistTrack, Track"
            ]
          },
          "metadata": {},
          "execution_count": 5
        }
      ],
      "source": [
        "dt = db.t\n",
        "dt"
      ]
    },
    {
      "cell_type": "markdown",
      "metadata": {
        "id": "--X5Vx87-xbi"
      },
      "source": [
        "You can use this to grab a single table...:"
      ]
    },
    {
      "cell_type": "code",
      "execution_count": 6,
      "metadata": {
        "id": "znri6U_o-xbj",
        "outputId": "f099aa36-5994-4fd7-fb82-8f42760bd138",
        "colab": {
          "base_uri": "https://localhost:8080/"
        }
      },
      "outputs": [
        {
          "output_type": "execute_result",
          "data": {
            "text/plain": [
              "<Table artists (does not exist yet)>"
            ]
          },
          "metadata": {},
          "execution_count": 6
        }
      ],
      "source": [
        "artist = dt.artists\n",
        "artist"
      ]
    },
    {
      "cell_type": "code",
      "execution_count": 7,
      "metadata": {
        "id": "lHR1fTEB-xbk",
        "outputId": "a26d9941-c613-4b87-8e96-e9257e08c323",
        "colab": {
          "base_uri": "https://localhost:8080/"
        }
      },
      "outputs": [
        {
          "output_type": "execute_result",
          "data": {
            "text/plain": [
              "<Table Artist (ArtistId, Name)>"
            ]
          },
          "metadata": {},
          "execution_count": 7
        }
      ],
      "source": [
        "artist = dt.Artist\n",
        "artist"
      ]
    },
    {
      "cell_type": "markdown",
      "metadata": {
        "id": "_dLkxhrH-xbl"
      },
      "source": [
        "...or multiple tables at once:"
      ]
    },
    {
      "cell_type": "code",
      "execution_count": 8,
      "metadata": {
        "id": "N0XsdHnT-xbl",
        "outputId": "0674bce6-d87c-419b-cf73-80263351c2da",
        "colab": {
          "base_uri": "https://localhost:8080/"
        }
      },
      "outputs": [
        {
          "output_type": "execute_result",
          "data": {
            "text/plain": [
              "[<Table Artist (ArtistId, Name)>,\n",
              " <Table Album (AlbumId, Title, ArtistId)>,\n",
              " <Table Track (TrackId, Name, AlbumId, MediaTypeId, GenreId, Composer, Milliseconds, Bytes, UnitPrice)>,\n",
              " <Table Genre (GenreId, Name)>,\n",
              " <Table MediaType (MediaTypeId, Name)>]"
            ]
          },
          "metadata": {},
          "execution_count": 8
        }
      ],
      "source": [
        "dt['Artist','Album','Track','Genre','MediaType']"
      ]
    },
    {
      "cell_type": "markdown",
      "metadata": {
        "id": "sHQyDK7h-xbm"
      },
      "source": [
        "It also provides auto-complete in Jupyter, IPython, and nearly any other interactive Python environment:\n",
        "\n",
        "![](attachment:image.png){width=180}"
      ]
    },
    {
      "cell_type": "markdown",
      "metadata": {
        "id": "XukN5Mgk-xbn"
      },
      "source": [
        "You can check if a table is in the database already:"
      ]
    },
    {
      "cell_type": "code",
      "execution_count": 9,
      "metadata": {
        "id": "Ghy7brHg-xbn",
        "outputId": "79c6fdaa-550d-4240-9d29-491fc0eb3e14",
        "colab": {
          "base_uri": "https://localhost:8080/"
        }
      },
      "outputs": [
        {
          "output_type": "execute_result",
          "data": {
            "text/plain": [
              "True"
            ]
          },
          "metadata": {},
          "execution_count": 9
        }
      ],
      "source": [
        "'Artist' in dt"
      ]
    },
    {
      "cell_type": "markdown",
      "metadata": {
        "id": "dLvKbcSm-xbo"
      },
      "source": [
        "Column work in a similar way to tables, using the `c` property:"
      ]
    },
    {
      "cell_type": "code",
      "execution_count": 10,
      "metadata": {
        "id": "MTcJ5SX7-xbp",
        "outputId": "1ff4367f-dbbf-4772-df8f-1e3f2e32ccff",
        "colab": {
          "base_uri": "https://localhost:8080/"
        }
      },
      "outputs": [
        {
          "output_type": "execute_result",
          "data": {
            "text/plain": [
              "ArtistId, Name"
            ]
          },
          "metadata": {},
          "execution_count": 10
        }
      ],
      "source": [
        "ac = artist.c\n",
        "ac"
      ]
    },
    {
      "cell_type": "markdown",
      "metadata": {
        "id": "M7sIo87c-xbq"
      },
      "source": [
        "Auto-complete works for columns too:\n",
        "\n",
        "![](attachment:image.png){width=140}"
      ]
    },
    {
      "cell_type": "markdown",
      "metadata": {
        "id": "esEKC0A5-xbt"
      },
      "source": [
        "Columns, tables, and view stringify in a format suitable for including in SQL statements. That means you can use auto-complete in f-strings."
      ]
    },
    {
      "cell_type": "code",
      "execution_count": 11,
      "metadata": {
        "id": "ZnCj2Zcz-xbt",
        "outputId": "f9332685-05fd-4a7b-bbc1-036ee294945d",
        "colab": {
          "base_uri": "https://localhost:8080/"
        }
      },
      "outputs": [
        {
          "output_type": "stream",
          "name": "stdout",
          "text": [
            "select * from \"Artist\" where \"Artist\".\"Name\" like 'AC/%'\n"
          ]
        }
      ],
      "source": [
        "qry = f\"select * from {artist} where {ac.Name} like 'AC/%'\"\n",
        "print(qry)"
      ]
    },
    {
      "cell_type": "markdown",
      "metadata": {
        "id": "PdweNGWW-xbu"
      },
      "source": [
        "You can view the results of a select query using `q`:"
      ]
    },
    {
      "cell_type": "code",
      "execution_count": 12,
      "metadata": {
        "id": "3a3vfRyy-xbv",
        "outputId": "1f85b084-6fe1-46ac-9c32-705022e9c9cc",
        "colab": {
          "base_uri": "https://localhost:8080/"
        }
      },
      "outputs": [
        {
          "output_type": "execute_result",
          "data": {
            "text/plain": [
              "[{'ArtistId': 1, 'Name': 'AC/DC'}]"
            ]
          },
          "metadata": {},
          "execution_count": 12
        }
      ],
      "source": [
        "artist1 = db.q(qry)\n",
        "artist1"
      ]
    },
    {
      "cell_type": "code",
      "source": [
        "artist_dc = artist.dataclass()\n",
        "artist_dc"
      ],
      "metadata": {
        "id": "zhE3_o1JMazr",
        "outputId": "936ae238-5127-4910-afb1-63b92c3e88ae",
        "colab": {
          "base_uri": "https://localhost:8080/",
          "height": 120
        }
      },
      "execution_count": 13,
      "outputs": [
        {
          "output_type": "execute_result",
          "data": {
            "text/plain": [
              "types.Artist"
            ],
            "text/html": [
              "<div style=\"max-width:800px; border: 1px solid var(--colab-border-color);\"><style>\n",
              "      pre.function-repr-contents {\n",
              "        overflow-x: auto;\n",
              "        padding: 8px 12px;\n",
              "        max-height: 500px;\n",
              "      }\n",
              "\n",
              "      pre.function-repr-contents.function-repr-contents-collapsed {\n",
              "        cursor: pointer;\n",
              "        max-height: 100px;\n",
              "      }\n",
              "    </style>\n",
              "    <pre style=\"white-space: initial; background:\n",
              "         var(--colab-secondary-surface-color); padding: 8px 12px;\n",
              "         border-bottom: 1px solid var(--colab-border-color);\"><b>types.Artist</b><br/>def __init__(*args, **kwargs)</pre><pre class=\"function-repr-contents function-repr-contents-collapsed\" style=\"\"><a class=\"filepath\" style=\"display:none\" href=\"#\">/usr/lib/python3.10/types.py</a>Artist(ArtistId: int | None = None, Name: str | None = None)</pre>\n",
              "      <script>\n",
              "      if (google.colab.kernel.accessAllowed && google.colab.files && google.colab.files.view) {\n",
              "        for (const element of document.querySelectorAll('.filepath')) {\n",
              "          element.style.display = 'block'\n",
              "          element.onclick = (event) => {\n",
              "            event.preventDefault();\n",
              "            event.stopPropagation();\n",
              "            google.colab.files.view(element.textContent, None);\n",
              "          };\n",
              "        }\n",
              "      }\n",
              "      for (const element of document.querySelectorAll('.function-repr-contents')) {\n",
              "        element.onclick = (event) => {\n",
              "          event.preventDefault();\n",
              "          event.stopPropagation();\n",
              "          element.classList.toggle('function-repr-contents-collapsed');\n",
              "        };\n",
              "      }\n",
              "      </script>\n",
              "      </div>"
            ]
          },
          "metadata": {},
          "execution_count": 13
        }
      ]
    },
    {
      "cell_type": "code",
      "source": [
        "artist_obj = artist_dc(**artist1[0])\n",
        "artist_obj"
      ],
      "metadata": {
        "id": "folnDEm1NV0R",
        "outputId": "3887ee53-4256-4040-8807-8c6fa4e3251e",
        "colab": {
          "base_uri": "https://localhost:8080/"
        }
      },
      "execution_count": 14,
      "outputs": [
        {
          "output_type": "execute_result",
          "data": {
            "text/plain": [
              "Artist(ArtistId=1, Name='AC/DC')"
            ]
          },
          "metadata": {},
          "execution_count": 14
        }
      ]
    },
    {
      "cell_type": "code",
      "source": [
        "artist_obj.ArtistId"
      ],
      "metadata": {
        "id": "eluONiP6NpXn",
        "outputId": "869d7e34-e74f-40b1-ef5a-50acbb653a72",
        "colab": {
          "base_uri": "https://localhost:8080/"
        }
      },
      "execution_count": 15,
      "outputs": [
        {
          "output_type": "execute_result",
          "data": {
            "text/plain": [
              "1"
            ]
          },
          "metadata": {},
          "execution_count": 15
        }
      ]
    },
    {
      "cell_type": "code",
      "source": [
        "artist_obj.Name"
      ],
      "metadata": {
        "id": "uYnC46L6N5kV",
        "outputId": "6efe4bc7-f464-4a26-cce0-4ee38dd9ad78",
        "colab": {
          "base_uri": "https://localhost:8080/",
          "height": 36
        }
      },
      "execution_count": 16,
      "outputs": [
        {
          "output_type": "execute_result",
          "data": {
            "text/plain": [
              "'AC/DC'"
            ],
            "application/vnd.google.colaboratory.intrinsic+json": {
              "type": "string"
            }
          },
          "metadata": {},
          "execution_count": 16
        }
      ]
    },
    {
      "cell_type": "markdown",
      "metadata": {
        "id": "Pli2joV4-xbx"
      },
      "source": [
        "Views can be accessed through the `v` property:"
      ]
    },
    {
      "cell_type": "code",
      "execution_count": 17,
      "metadata": {
        "id": "RUXGh3t8-xbx",
        "outputId": "1addcfd5-5f23-4bf1-8d33-db6c72d03e13",
        "colab": {
          "base_uri": "https://localhost:8080/"
        }
      },
      "outputs": [
        {
          "output_type": "execute_result",
          "data": {
            "text/plain": [
              "[{'AlbumId': 1,\n",
              "  'Title': 'For Those About To Rock We Salute You',\n",
              "  'ArtistId': 1},\n",
              " {'AlbumId': 4, 'Title': 'Let There Be Rock', 'ArtistId': 1}]"
            ]
          },
          "metadata": {},
          "execution_count": 17
        }
      ],
      "source": [
        "album = dt.Album\n",
        "\n",
        "acca_sql = f\"\"\"select {album}.*\n",
        "from {album} join {artist} using (ArtistId)\n",
        "where {ac.Name} like 'AC/%'\"\"\"\n",
        "\n",
        "db.create_view(\"AccaDaccaAlbums\", acca_sql, replace=True)\n",
        "acca_dacca = db.q(f\"select * from {db.v.AccaDaccaAlbums}\")\n",
        "acca_dacca"
      ]
    },
    {
      "cell_type": "markdown",
      "metadata": {
        "id": "wcLg8uQr-xby"
      },
      "source": [
        "## Dataclass support"
      ]
    },
    {
      "cell_type": "markdown",
      "metadata": {
        "id": "UuRyDWGb-xbz"
      },
      "source": [
        "A `dataclass` type with the names, types, and defaults of the tables is created using `dataclass()`:"
      ]
    },
    {
      "cell_type": "code",
      "execution_count": 18,
      "metadata": {
        "id": "eAsj0e8S-xbz"
      },
      "outputs": [],
      "source": [
        "album_dc = album.dataclass()"
      ]
    },
    {
      "cell_type": "markdown",
      "metadata": {
        "id": "Ql_r2tq4-xb0"
      },
      "source": [
        "Let's try it:"
      ]
    },
    {
      "cell_type": "code",
      "execution_count": 19,
      "metadata": {
        "id": "Mj1aANwS-xb1",
        "outputId": "97dd19fd-6344-403a-de69-0b93a79f3256",
        "colab": {
          "base_uri": "https://localhost:8080/"
        }
      },
      "outputs": [
        {
          "output_type": "execute_result",
          "data": {
            "text/plain": [
              "Album(AlbumId=1, Title='For Those About To Rock We Salute You', ArtistId=1)"
            ]
          },
          "metadata": {},
          "execution_count": 19
        }
      ],
      "source": [
        "album_obj = album_dc(**acca_dacca[0])\n",
        "album_obj"
      ]
    },
    {
      "cell_type": "markdown",
      "metadata": {
        "id": "Duve8fJw-xb2"
      },
      "source": [
        "You can get the definition of the dataclass using fastcore's `dataclass_src` -- everything is treated as nullable, in order to handle auto-generated database values:"
      ]
    },
    {
      "cell_type": "code",
      "execution_count": 20,
      "metadata": {
        "id": "P9i31XI3-xb3",
        "outputId": "6dc69a04-cb6d-41bc-c83c-40382ad7cb5a",
        "colab": {
          "base_uri": "https://localhost:8080/",
          "height": 104
        }
      },
      "outputs": [
        {
          "output_type": "execute_result",
          "data": {
            "text/plain": [
              "<IPython.core.display.Markdown object>"
            ],
            "text/markdown": "```python\n@dataclass\nclass Album:\n    AlbumId: int | None = None\n    Title: str | None = None\n    ArtistId: int | None = None\n\n```"
          },
          "metadata": {},
          "execution_count": 20
        }
      ],
      "source": [
        "src = dataclass_src(album_dc)\n",
        "hl_md(src, 'python')"
      ]
    },
    {
      "cell_type": "markdown",
      "metadata": {
        "id": "j1SkKYoP-xb8"
      },
      "source": [
        "Because `dataclass()` is dynamic, you won't get auto-complete in editors like vscode -- it'll only work in dynamic environments like Jupyter and IPython. For editor support, you can export the full set of dataclasses to a module, which you can then import from:"
      ]
    },
    {
      "cell_type": "code",
      "execution_count": 21,
      "metadata": {
        "id": "mDnkbzTK-xb8"
      },
      "outputs": [],
      "source": [
        "create_mod(db, 'db_dc')"
      ]
    },
    {
      "cell_type": "code",
      "execution_count": 22,
      "metadata": {
        "id": "FFw5HldE-xb9",
        "outputId": "4045ed0b-d335-4c88-a3f9-2ed1ab6b69a5",
        "colab": {
          "base_uri": "https://localhost:8080/"
        }
      },
      "outputs": [
        {
          "output_type": "execute_result",
          "data": {
            "text/plain": [
              "Track(TrackId=None, Name=None, AlbumId=None, MediaTypeId=None, GenreId=None, Composer=None, Milliseconds=None, Bytes=None, UnitPrice=None)"
            ]
          },
          "metadata": {},
          "execution_count": 22
        }
      ],
      "source": [
        "#| eval: false\n",
        "from db_dc import Track\n",
        "Track()"
      ]
    },
    {
      "cell_type": "markdown",
      "metadata": {
        "id": "y3OzurO0-xb-"
      },
      "source": [
        "Indexing into a table does a query on primary key:"
      ]
    },
    {
      "cell_type": "code",
      "execution_count": 23,
      "metadata": {
        "id": "1eusZAHf-xcN",
        "outputId": "06ae915f-f0d1-4abb-a0c8-c4d772919b43",
        "colab": {
          "base_uri": "https://localhost:8080/"
        }
      },
      "outputs": [
        {
          "output_type": "execute_result",
          "data": {
            "text/plain": [
              "Track(TrackId=1, Name='For Those About To Rock (We Salute You)', AlbumId=1, MediaTypeId=1, GenreId=1, Composer='Angus Young, Malcolm Young, Brian Johnson', Milliseconds=343719, Bytes=11170334, UnitPrice=0.99)"
            ]
          },
          "metadata": {},
          "execution_count": 23
        }
      ],
      "source": [
        "dt.Track[1]"
      ]
    },
    {
      "cell_type": "markdown",
      "metadata": {
        "id": "p020_Upr-xcO"
      },
      "source": [
        "There's a shortcut to select from a table -- just call it as a function. If you've previously called `dataclass()`, returned iterms will be constructed using that class by default. There's lots of params you can check out, such as `limit`:"
      ]
    },
    {
      "cell_type": "code",
      "execution_count": 24,
      "metadata": {
        "id": "JnhQL7ED-xcQ",
        "outputId": "55d79870-2cac-48fe-c140-e95b25ee3868",
        "colab": {
          "base_uri": "https://localhost:8080/"
        }
      },
      "outputs": [
        {
          "output_type": "execute_result",
          "data": {
            "text/plain": [
              "[Album(AlbumId=1, Title='For Those About To Rock We Salute You', ArtistId=1),\n",
              " Album(AlbumId=2, Title='Balls to the Wall', ArtistId=2)]"
            ]
          },
          "metadata": {},
          "execution_count": 24
        }
      ],
      "source": [
        "album(limit=2)"
      ]
    },
    {
      "cell_type": "markdown",
      "metadata": {
        "id": "8pV55ma8-xcR"
      },
      "source": [
        "Pass a truthy value as `with_pk` and you'll get tuples of primary keys and records:"
      ]
    },
    {
      "cell_type": "code",
      "execution_count": 25,
      "metadata": {
        "id": "rRr3XfsN-xcR",
        "outputId": "4d342bc5-2e7f-440a-a620-6452a65bfdf6",
        "colab": {
          "base_uri": "https://localhost:8080/"
        }
      },
      "outputs": [
        {
          "output_type": "execute_result",
          "data": {
            "text/plain": [
              "[(1,\n",
              "  Album(AlbumId=1, Title='For Those About To Rock We Salute You', ArtistId=1)),\n",
              " (2, Album(AlbumId=2, Title='Balls to the Wall', ArtistId=2))]"
            ]
          },
          "metadata": {},
          "execution_count": 25
        }
      ],
      "source": [
        "album(with_pk=1, limit=2)"
      ]
    },
    {
      "cell_type": "markdown",
      "metadata": {
        "id": "Ho8fiDaZ-xcS"
      },
      "source": [
        "Indexing also uses the dataclass by default:"
      ]
    },
    {
      "cell_type": "code",
      "execution_count": 26,
      "metadata": {
        "id": "TU3PvQYU-xcS",
        "outputId": "e9fcbc80-da06-4d5f-cd5e-91d91d0fad3c",
        "colab": {
          "base_uri": "https://localhost:8080/"
        }
      },
      "outputs": [
        {
          "output_type": "execute_result",
          "data": {
            "text/plain": [
              "Album(AlbumId=5, Title='Big Ones', ArtistId=3)"
            ]
          },
          "metadata": {},
          "execution_count": 26
        }
      ],
      "source": [
        "album[5]"
      ]
    },
    {
      "cell_type": "markdown",
      "metadata": {
        "id": "pWCc9IH--xcT"
      },
      "source": [
        "If you set `xtra` fields, then indexing is also filtered by those. As a result, for instance in this case, nothing is returned since album 5 is not created by artist 1:"
      ]
    },
    {
      "cell_type": "code",
      "execution_count": 27,
      "metadata": {
        "id": "GZaLkDmo-xcU",
        "outputId": "a1e87812-6995-47a0-d098-3a12559efcbf",
        "colab": {
          "base_uri": "https://localhost:8080/"
        }
      },
      "outputs": [
        {
          "output_type": "stream",
          "name": "stdout",
          "text": [
            "Not found\n"
          ]
        }
      ],
      "source": [
        "album.xtra(ArtistId=1)\n",
        "\n",
        "try: album[5]\n",
        "except NotFoundError: print(\"Not found\")"
      ]
    },
    {
      "cell_type": "markdown",
      "metadata": {
        "id": "S_DEZhnj-xcU"
      },
      "source": [
        "The same filtering is done when using the table as a callable:"
      ]
    },
    {
      "cell_type": "code",
      "execution_count": 28,
      "metadata": {
        "id": "htI8KWHj-xcV",
        "outputId": "a43a2801-effd-4eeb-8b7b-f425976ea9e5",
        "colab": {
          "base_uri": "https://localhost:8080/"
        }
      },
      "outputs": [
        {
          "output_type": "execute_result",
          "data": {
            "text/plain": [
              "[Album(AlbumId=1, Title='For Those About To Rock We Salute You', ArtistId=1),\n",
              " Album(AlbumId=4, Title='Let There Be Rock', ArtistId=1)]"
            ]
          },
          "metadata": {},
          "execution_count": 28
        }
      ],
      "source": [
        "album()"
      ]
    },
    {
      "cell_type": "markdown",
      "metadata": {
        "id": "3IRMqlhS-xcW"
      },
      "source": [
        "## Core design"
      ]
    },
    {
      "cell_type": "markdown",
      "metadata": {
        "id": "dOigW0Dj-xcW"
      },
      "source": [
        "The following methods accept `**kwargs`, passing them along to the first `dict` param:\n",
        "\n",
        "- `create`\n",
        "- `transform`\n",
        "- `transform_sql`\n",
        "- `update`\n",
        "- `insert`\n",
        "- `upsert`\n",
        "- `lookup`"
      ]
    },
    {
      "cell_type": "markdown",
      "metadata": {
        "id": "VxZdiJOO-xcW"
      },
      "source": [
        "We can access a table that doesn't actually exist yet:"
      ]
    },
    {
      "cell_type": "code",
      "execution_count": 29,
      "metadata": {
        "id": "Ze2oe2bR-xcX",
        "outputId": "fe750f3e-e151-4170-ee12-f0c3b7281fc9",
        "colab": {
          "base_uri": "https://localhost:8080/"
        }
      },
      "outputs": [
        {
          "output_type": "execute_result",
          "data": {
            "text/plain": [
              "<Table cats (does not exist yet)>"
            ]
          },
          "metadata": {},
          "execution_count": 29
        }
      ],
      "source": [
        "cats = dt.cats\n",
        "cats"
      ]
    },
    {
      "cell_type": "markdown",
      "metadata": {
        "id": "BqsEPBVp-xcY"
      },
      "source": [
        "We can use keyword arguments to now create that table:"
      ]
    },
    {
      "cell_type": "code",
      "execution_count": 30,
      "metadata": {
        "id": "xiDhsH2a-xcY",
        "outputId": "abd70205-866d-4b3c-aa8f-34c867e7f43f",
        "colab": {
          "base_uri": "https://localhost:8080/",
          "height": 121
        }
      },
      "outputs": [
        {
          "output_type": "execute_result",
          "data": {
            "text/plain": [
              "<IPython.core.display.Markdown object>"
            ],
            "text/markdown": "```sql\nCREATE TABLE [cats] (\n   [id] INTEGER PRIMARY KEY,\n   [name] TEXT,\n   [weight] FLOAT,\n   [uid] INTEGER\n)\n```"
          },
          "metadata": {},
          "execution_count": 30
        }
      ],
      "source": [
        "cats.create(id=int, name=str, weight=float, uid=int, pk='id')\n",
        "hl_md(cats.schema, 'sql')"
      ]
    },
    {
      "cell_type": "markdown",
      "metadata": {
        "id": "53-wejm1-xcZ"
      },
      "source": [
        "It we set `xtra` then the additional fields are used for `insert`, `update`, and `delete`:"
      ]
    },
    {
      "cell_type": "code",
      "execution_count": 31,
      "metadata": {
        "id": "IT8XMhlt-xcZ"
      },
      "outputs": [],
      "source": [
        "cats.xtra(uid=2)\n",
        "cat = cats.insert(name='meow', weight=6)"
      ]
    },
    {
      "cell_type": "markdown",
      "metadata": {
        "id": "_Wu9e7qG-xca"
      },
      "source": [
        "The inserted row is returned, including the xtra 'uid' field."
      ]
    },
    {
      "cell_type": "code",
      "execution_count": 32,
      "metadata": {
        "id": "xUKKVQ9Z-xcb",
        "outputId": "7dd0dcbd-58bb-4936-aad3-9144dea2c517",
        "colab": {
          "base_uri": "https://localhost:8080/"
        }
      },
      "outputs": [
        {
          "output_type": "execute_result",
          "data": {
            "text/plain": [
              "{'id': 1, 'name': 'meow', 'weight': 6.0, 'uid': 2}"
            ]
          },
          "metadata": {},
          "execution_count": 32
        }
      ],
      "source": [
        "cat"
      ]
    },
    {
      "cell_type": "markdown",
      "metadata": {
        "id": "-yTA5_PU-xcc"
      },
      "source": [
        "Using `**` in `update` here doesn't actually achieve anything, since we can just pass a `dict` directly -- it's just to show that it works:"
      ]
    },
    {
      "cell_type": "code",
      "execution_count": 33,
      "metadata": {
        "id": "2XliDrnG-xcc",
        "outputId": "91817a2b-29aa-41d9-9cb2-9f77da1457b0",
        "colab": {
          "base_uri": "https://localhost:8080/"
        }
      },
      "outputs": [
        {
          "output_type": "execute_result",
          "data": {
            "text/plain": [
              "[{'id': 1, 'name': 'moo', 'weight': 6.0, 'uid': 2}]"
            ]
          },
          "metadata": {},
          "execution_count": 33
        }
      ],
      "source": [
        "cat['name'] = \"moo\"\n",
        "cat['uid'] = 1\n",
        "cats.update(**cat)\n",
        "cats()"
      ]
    },
    {
      "cell_type": "markdown",
      "metadata": {
        "id": "fMSDRdv1-xcd"
      },
      "source": [
        "Attempts to update or insert with xtra fields are ignored.\n",
        "\n",
        "An error is raised if there's an attempt to update a record not matching `xtra` fields:"
      ]
    },
    {
      "cell_type": "code",
      "execution_count": 34,
      "metadata": {
        "id": "WL9hIDy7-xce",
        "outputId": "c4033fc8-c09f-4714-d368-7ecd565dd866",
        "colab": {
          "base_uri": "https://localhost:8080/"
        }
      },
      "outputs": [
        {
          "output_type": "stream",
          "name": "stdout",
          "text": [
            "Not found\n"
          ]
        }
      ],
      "source": [
        "cats.xtra(uid=1)\n",
        "try: cats.update(**cat)\n",
        "except NotFoundError: print(\"Not found\")"
      ]
    },
    {
      "cell_type": "markdown",
      "metadata": {
        "id": "nUAe1ulZ-xce"
      },
      "source": [
        "This all also works with dataclasses:"
      ]
    },
    {
      "cell_type": "code",
      "execution_count": 35,
      "metadata": {
        "id": "5Fma21pZ-xcf",
        "outputId": "0a83e355-71d1-4077-d703-3d5376098e60",
        "colab": {
          "base_uri": "https://localhost:8080/"
        }
      },
      "outputs": [
        {
          "output_type": "execute_result",
          "data": {
            "text/plain": [
              "Cats(id=1, name='moo', weight=6.0, uid=2)"
            ]
          },
          "metadata": {},
          "execution_count": 35
        }
      ],
      "source": [
        "cats.xtra(uid=2)\n",
        "cats.dataclass()\n",
        "cat = cats[1]\n",
        "cat"
      ]
    },
    {
      "cell_type": "code",
      "execution_count": 36,
      "metadata": {
        "id": "rP7rI4Zz-xcf",
        "outputId": "37c08991-82da-4571-c53d-19b2484c8a72",
        "colab": {
          "base_uri": "https://localhost:8080/"
        }
      },
      "outputs": [
        {
          "output_type": "execute_result",
          "data": {
            "text/plain": [
              "<Table cats (does not exist yet)>"
            ]
          },
          "metadata": {},
          "execution_count": 36
        }
      ],
      "source": [
        "cats.drop()\n",
        "cats"
      ]
    },
    {
      "cell_type": "markdown",
      "metadata": {
        "id": "K6OhVn_d-xcg"
      },
      "source": [
        "Alternatively, you can create a table from a class. If it's not already a dataclass, it will be converted into one. In either case, the dataclass will be created (or modified) so that `None` can be passed to any field (this is needed to support fields such as automatic row ids)."
      ]
    },
    {
      "cell_type": "code",
      "execution_count": 37,
      "metadata": {
        "id": "z67Uac-U-xch"
      },
      "outputs": [],
      "source": [
        "class Cat: id:int; name:str; weight:float; uid:int"
      ]
    },
    {
      "cell_type": "code",
      "execution_count": 38,
      "metadata": {
        "id": "s7ZDVtnp-xck"
      },
      "outputs": [],
      "source": [
        "cats = db.create(Cat)"
      ]
    },
    {
      "cell_type": "code",
      "execution_count": 39,
      "metadata": {
        "id": "HtTXl9gO-xck",
        "outputId": "8234a55c-5f1d-4531-89dc-2ad0c6a4bd1f",
        "colab": {
          "base_uri": "https://localhost:8080/",
          "height": 121
        }
      },
      "outputs": [
        {
          "output_type": "execute_result",
          "data": {
            "text/plain": [
              "<IPython.core.display.Markdown object>"
            ],
            "text/markdown": "```sql\nCREATE TABLE [cat] (\n   [id] INTEGER PRIMARY KEY,\n   [name] TEXT,\n   [weight] FLOAT,\n   [uid] INTEGER\n)\n```"
          },
          "metadata": {},
          "execution_count": 39
        }
      ],
      "source": [
        "hl_md(cats.schema, 'sql')"
      ]
    },
    {
      "cell_type": "code",
      "execution_count": 40,
      "metadata": {
        "id": "6pFPwwDT-xcl",
        "outputId": "ab6e90ef-fa2b-451f-897b-8b2721ab31bf",
        "colab": {
          "base_uri": "https://localhost:8080/"
        }
      },
      "outputs": [
        {
          "output_type": "execute_result",
          "data": {
            "text/plain": [
              "Cat(id=1, name='咪咪', weight=9.0, uid=None)"
            ]
          },
          "metadata": {},
          "execution_count": 40
        }
      ],
      "source": [
        "cat = Cat(name='咪咪', weight=9)\n",
        "cats.insert(cat)\n"
      ]
    },
    {
      "cell_type": "code",
      "execution_count": 41,
      "metadata": {
        "id": "LF2yKL-W-xcm"
      },
      "outputs": [],
      "source": [
        "cats.drop()"
      ]
    },
    {
      "cell_type": "markdown",
      "metadata": {
        "id": "CQV6sWMc-xcn"
      },
      "source": [
        "## Manipulating data\n",
        "\n",
        "We try to make the following methods as flexible as possible. Wherever possible, they support Python dictionaries, dataclasses, and classes."
      ]
    },
    {
      "cell_type": "markdown",
      "metadata": {
        "id": "_1SrlFOV-xco"
      },
      "source": [
        "### .insert()\n",
        "\n",
        "Creates a record. In the name of flexibility, we test that dictionaries, dataclasses, and classes all work. Returns an instance of the updated record.\n",
        "\n",
        "Insert using a dictionary."
      ]
    },
    {
      "cell_type": "code",
      "execution_count": 42,
      "metadata": {
        "id": "gEUzSlZJ-xcp",
        "outputId": "09d21bbd-7ebc-4bd5-ecba-b5034486c8d6",
        "colab": {
          "base_uri": "https://localhost:8080/"
        }
      },
      "outputs": [
        {
          "output_type": "execute_result",
          "data": {
            "text/plain": [
              "Cat(id=1, name='Rex', weight=12.2, uid=UNSET)"
            ]
          },
          "metadata": {},
          "execution_count": 42
        }
      ],
      "source": [
        "cats.insert({'name': 'Rex', 'weight': 12.2})"
      ]
    },
    {
      "cell_type": "markdown",
      "metadata": {
        "id": "7HnfVl18-xcp"
      },
      "source": [
        "Insert using a dataclass."
      ]
    },
    {
      "cell_type": "code",
      "execution_count": 43,
      "metadata": {
        "id": "UDt9LeYp-xcq",
        "outputId": "f788f360-16be-40b6-f106-995e0e63d3e4",
        "colab": {
          "base_uri": "https://localhost:8080/"
        }
      },
      "outputs": [
        {
          "output_type": "execute_result",
          "data": {
            "text/plain": [
              "Cat(id=2, name='Tom', weight=10.2)"
            ]
          },
          "metadata": {},
          "execution_count": 43
        }
      ],
      "source": [
        "CatDC = cats.dataclass()\n",
        "cats.insert(CatDC(name='Tom', weight=10.2))"
      ]
    },
    {
      "cell_type": "markdown",
      "metadata": {
        "id": "i46ONN6a-xcr"
      },
      "source": [
        "Insert using a standard Python class"
      ]
    },
    {
      "cell_type": "code",
      "execution_count": 44,
      "metadata": {
        "id": "OL1aU1rZ-xcs"
      },
      "outputs": [],
      "source": [
        "cat = cats.insert(Cat(name='Jerry', weight=5.2))"
      ]
    },
    {
      "cell_type": "markdown",
      "metadata": {
        "id": "Fh9Hrmc2-xct"
      },
      "source": [
        "### .update()\n",
        "\n",
        "Updates a record using a Python dict, dataclasses, and classes all work and returns an instance of the updated record.\n",
        "\n",
        "Updating from a Python dict:"
      ]
    },
    {
      "cell_type": "code",
      "execution_count": 45,
      "metadata": {
        "id": "3omCcnYm-xcu",
        "outputId": "96206013-9525-4b98-f9da-2b07040feb91",
        "colab": {
          "base_uri": "https://localhost:8080/"
        }
      },
      "outputs": [
        {
          "output_type": "execute_result",
          "data": {
            "text/plain": [
              "Cat(id=3, name='Jerry', weight=6.2)"
            ]
          },
          "metadata": {},
          "execution_count": 45
        }
      ],
      "source": [
        "cats.update(dict(id=cat.id, name='Jerry', weight=6.2))"
      ]
    },
    {
      "cell_type": "markdown",
      "metadata": {
        "id": "t7nI0FWc-xcv"
      },
      "source": [
        "Updating from a dataclass:"
      ]
    },
    {
      "cell_type": "code",
      "execution_count": 46,
      "metadata": {
        "id": "aNSypXtU-xcw",
        "outputId": "1aa649bd-efa3-49c7-fd77-1ba3afbf4d45",
        "colab": {
          "base_uri": "https://localhost:8080/"
        }
      },
      "outputs": [
        {
          "output_type": "execute_result",
          "data": {
            "text/plain": [
              "Cat(id=3, name='Jerry', weight=6.3)"
            ]
          },
          "metadata": {},
          "execution_count": 46
        }
      ],
      "source": [
        "cats.update(CatDC(id=cat.id, name='Jerry', weight=6.3))"
      ]
    },
    {
      "cell_type": "markdown",
      "metadata": {
        "id": "WP62rzd1-xcw"
      },
      "source": [
        "Updating using a class:"
      ]
    },
    {
      "cell_type": "code",
      "execution_count": 47,
      "metadata": {
        "id": "q96aDaQs-xcx",
        "outputId": "bad5bcb9-07d5-497b-dbac-ffea18071533",
        "colab": {
          "base_uri": "https://localhost:8080/"
        }
      },
      "outputs": [
        {
          "output_type": "execute_result",
          "data": {
            "text/plain": [
              "Cat(id=3, name='Jerry', weight=5.7)"
            ]
          },
          "metadata": {},
          "execution_count": 47
        }
      ],
      "source": [
        "cats.update(Cat(id=cat.id, name='Jerry', weight=5.7))"
      ]
    },
    {
      "cell_type": "markdown",
      "metadata": {
        "id": "zGtU3Wml-xcy"
      },
      "source": [
        "### .delete()\n",
        "\n",
        "Removing data is done by providing the primary key value of the record."
      ]
    },
    {
      "cell_type": "code",
      "execution_count": 48,
      "metadata": {
        "id": "l-gMt2So-xcz",
        "outputId": "1c44bb1d-4da3-4d02-ad59-9db82ac9f433",
        "colab": {
          "base_uri": "https://localhost:8080/"
        }
      },
      "outputs": [
        {
          "output_type": "execute_result",
          "data": {
            "text/plain": [
              "<Table cat (id, name, weight)>"
            ]
          },
          "metadata": {},
          "execution_count": 48
        }
      ],
      "source": [
        "# Farewell Jerry!\n",
        "cats.delete(cat.id)"
      ]
    },
    {
      "cell_type": "markdown",
      "metadata": {
        "id": "O1ZdnVroXlpp"
      },
      "source": [
        "### .lookup()\n",
        "\n",
        "Looking up data is done by providing the dict of lookup value."
      ]
    },
    {
      "cell_type": "code",
      "source": [],
      "metadata": {
        "id": "U_2mj3DzVx82"
      },
      "execution_count": 48,
      "outputs": []
    },
    {
      "cell_type": "code",
      "source": [
        "# cat_id = cats.lookup(lookup_values={'name': 'Tom'})\n",
        "# cat_id = cats.lookup(lookup_values={'name': 'Tom', 'weight': 10.2})\n",
        "cat_id = cats.lookup(lookup_values={'weight': 10.2})\n",
        "cat_id"
      ],
      "metadata": {
        "colab": {
          "base_uri": "https://localhost:8080/"
        },
        "id": "KAKOgygoVx19",
        "outputId": "0d6350a9-8105-40aa-e82d-46a307bb6904"
      },
      "execution_count": 57,
      "outputs": [
        {
          "output_type": "execute_result",
          "data": {
            "text/plain": [
              "2"
            ]
          },
          "metadata": {},
          "execution_count": 57
        }
      ]
    },
    {
      "cell_type": "code",
      "source": [
        "cat2 = cats[cat_id]\n",
        "cat2"
      ],
      "metadata": {
        "colab": {
          "base_uri": "https://localhost:8080/"
        },
        "id": "4N9UCrODVxO6",
        "outputId": "fad96612-8dc9-4309-fa4e-4bac782ee6c4"
      },
      "execution_count": 58,
      "outputs": [
        {
          "output_type": "execute_result",
          "data": {
            "text/plain": [
              "Cat(id=2, name='Tom', weight=10.2)"
            ]
          },
          "metadata": {},
          "execution_count": 58
        }
      ]
    },
    {
      "cell_type": "code",
      "source": [
        "cat_id = cats.lookup(lookup_values={'name': 'Rex'})\n",
        "cat_id"
      ],
      "metadata": {
        "outputId": "2b06ddba-4cfb-456c-e9ce-468b85d4744b",
        "colab": {
          "base_uri": "https://localhost:8080/"
        },
        "id": "oU6Pm87XYOUx"
      },
      "execution_count": 59,
      "outputs": [
        {
          "output_type": "execute_result",
          "data": {
            "text/plain": [
              "1"
            ]
          },
          "metadata": {},
          "execution_count": 59
        }
      ]
    },
    {
      "cell_type": "code",
      "source": [
        "cat1 = cats[cat_id]\n",
        "cat1"
      ],
      "metadata": {
        "outputId": "114d7291-f5e6-4b25-ba14-23a76b9938a0",
        "colab": {
          "base_uri": "https://localhost:8080/"
        },
        "id": "slyIzZ3cYOVO"
      },
      "execution_count": 60,
      "outputs": [
        {
          "output_type": "execute_result",
          "data": {
            "text/plain": [
              "Cat(id=1, name='Rex', weight=12.2)"
            ]
          },
          "metadata": {},
          "execution_count": 60
        }
      ]
    },
    {
      "cell_type": "markdown",
      "metadata": {
        "id": "5w-G3btZ-xcz"
      },
      "source": [
        "## Diagrams"
      ]
    },
    {
      "cell_type": "markdown",
      "metadata": {
        "id": "uyxhE6IB-xc0"
      },
      "source": [
        "If you have [graphviz](https://pypi.org/project/graphviz/) installed, you can create database diagrams:"
      ]
    },
    {
      "cell_type": "code",
      "execution_count": 51,
      "metadata": {
        "id": "jjvzZ_FL-xc0",
        "outputId": "efa08f7c-7a96-405d-bb2b-913f306e9818",
        "colab": {
          "base_uri": "https://localhost:8080/",
          "height": 696
        }
      },
      "outputs": [
        {
          "output_type": "execute_result",
          "data": {
            "image/svg+xml": "<?xml version=\"1.0\" encoding=\"UTF-8\" standalone=\"no\"?>\n<!DOCTYPE svg PUBLIC \"-//W3C//DTD SVG 1.1//EN\"\n \"http://www.w3.org/Graphics/SVG/1.1/DTD/svg11.dtd\">\n<!-- Generated by graphviz version 2.43.0 (0)\n -->\n<!-- Title: G Pages: 1 -->\n<svg width=\"720pt\" height=\"506pt\"\n viewBox=\"0.00 0.00 720.00 505.90\" xmlns=\"http://www.w3.org/2000/svg\" xmlns:xlink=\"http://www.w3.org/1999/xlink\">\n<g id=\"graph0\" class=\"graph\" transform=\"scale(0.65 0.65) rotate(0) translate(4 768.5)\">\n<title>G</title>\n<polygon fill=\"white\" stroke=\"transparent\" points=\"-4,4 -4,-768.5 1095.43,-768.5 1095.43,4 -4,4\"/>\n<!-- Album -->\n<g id=\"node1\" class=\"node\">\n<title>Album</title>\n<polygon fill=\"lightgray\" stroke=\"transparent\" points=\"662.43,-289.5 662.43,-310.5 741.43,-310.5 741.43,-289.5 662.43,-289.5\"/>\n<polygon fill=\"none\" stroke=\"black\" points=\"662.43,-289.5 662.43,-310.5 741.43,-310.5 741.43,-289.5 662.43,-289.5\"/>\n<text text-anchor=\"start\" x=\"682.43\" y=\"-296.3\" font-family=\"Times,serif\" font-size=\"14.00\">Album</text>\n<polygon fill=\"#ffebcd\" stroke=\"transparent\" points=\"662.43,-268.5 662.43,-289.5 741.43,-289.5 741.43,-268.5 662.43,-268.5\"/>\n<polygon fill=\"none\" stroke=\"black\" points=\"662.43,-268.5 662.43,-289.5 741.43,-289.5 741.43,-268.5 662.43,-268.5\"/>\n<text text-anchor=\"start\" x=\"665.43\" y=\"-275.3\" font-family=\"Times,serif\" font-size=\"14.00\">AlbumId 🔑</text>\n<polygon fill=\"none\" stroke=\"black\" points=\"662.43,-247.5 662.43,-268.5 741.43,-268.5 741.43,-247.5 662.43,-247.5\"/>\n<text text-anchor=\"start\" x=\"688.93\" y=\"-254.3\" font-family=\"Times,serif\" font-size=\"14.00\">Title</text>\n<polygon fill=\"none\" stroke=\"black\" points=\"662.43,-226.5 662.43,-247.5 741.43,-247.5 741.43,-226.5 662.43,-226.5\"/>\n<text text-anchor=\"start\" x=\"680.43\" y=\"-233.3\" font-family=\"Times,serif\" font-size=\"14.00\">ArtistId</text>\n<polygon fill=\"none\" stroke=\"black\" points=\"660.93,-225.5 660.93,-311.5 741.93,-311.5 741.93,-225.5 660.93,-225.5\"/>\n</g>\n<!-- Artist -->\n<g id=\"node2\" class=\"node\">\n<title>Artist</title>\n<polygon fill=\"lightgray\" stroke=\"transparent\" points=\"949.43,-183.5 949.43,-204.5 1021.43,-204.5 1021.43,-183.5 949.43,-183.5\"/>\n<polygon fill=\"none\" stroke=\"black\" points=\"949.43,-183.5 949.43,-204.5 1021.43,-204.5 1021.43,-183.5 949.43,-183.5\"/>\n<text text-anchor=\"start\" x=\"969.93\" y=\"-190.3\" font-family=\"Times,serif\" font-size=\"14.00\">Artist</text>\n<polygon fill=\"#ffebcd\" stroke=\"transparent\" points=\"949.43,-162.5 949.43,-183.5 1021.43,-183.5 1021.43,-162.5 949.43,-162.5\"/>\n<polygon fill=\"none\" stroke=\"black\" points=\"949.43,-162.5 949.43,-183.5 1021.43,-183.5 1021.43,-162.5 949.43,-162.5\"/>\n<text text-anchor=\"start\" x=\"952.43\" y=\"-169.3\" font-family=\"Times,serif\" font-size=\"14.00\">ArtistId 🔑</text>\n<polygon fill=\"none\" stroke=\"black\" points=\"949.43,-141.5 949.43,-162.5 1021.43,-162.5 1021.43,-141.5 949.43,-141.5\"/>\n<text text-anchor=\"start\" x=\"968.43\" y=\"-148.3\" font-family=\"Times,serif\" font-size=\"14.00\">Name</text>\n<polygon fill=\"none\" stroke=\"black\" points=\"948.43,-141 948.43,-206 1022.43,-206 1022.43,-141 948.43,-141\"/>\n</g>\n<!-- Album&#45;&gt;Artist -->\n<g id=\"edge1\" class=\"edge\">\n<title>Album:ArtistId&#45;&gt;Artist:ArtistId</title>\n<path fill=\"none\" stroke=\"black\" d=\"M742.43,-236.5C834.84,-236.5 851.42,-177.04 938.35,-172.74\"/>\n<polygon fill=\"black\" stroke=\"black\" points=\"938.52,-176.24 948.43,-172.5 938.35,-169.24 938.52,-176.24\"/>\n</g>\n<!-- Customer -->\n<g id=\"node3\" class=\"node\">\n<title>Customer</title>\n<polygon fill=\"lightgray\" stroke=\"transparent\" points=\"654.43,-738.5 654.43,-759.5 748.43,-759.5 748.43,-738.5 654.43,-738.5\"/>\n<polygon fill=\"none\" stroke=\"black\" points=\"654.43,-738.5 654.43,-759.5 748.43,-759.5 748.43,-738.5 654.43,-738.5\"/>\n<text text-anchor=\"start\" x=\"674.43\" y=\"-745.3\" font-family=\"Times,serif\" font-size=\"14.00\">Customer</text>\n<polygon fill=\"#ffebcd\" stroke=\"transparent\" points=\"654.43,-717.5 654.43,-738.5 748.43,-738.5 748.43,-717.5 654.43,-717.5\"/>\n<polygon fill=\"none\" stroke=\"black\" points=\"654.43,-717.5 654.43,-738.5 748.43,-738.5 748.43,-717.5 654.43,-717.5\"/>\n<text text-anchor=\"start\" x=\"657.43\" y=\"-724.3\" font-family=\"Times,serif\" font-size=\"14.00\">CustomerId 🔑</text>\n<polygon fill=\"none\" stroke=\"black\" points=\"654.43,-696.5 654.43,-717.5 748.43,-717.5 748.43,-696.5 654.43,-696.5\"/>\n<text text-anchor=\"start\" x=\"672.43\" y=\"-703.3\" font-family=\"Times,serif\" font-size=\"14.00\">FirstName</text>\n<polygon fill=\"none\" stroke=\"black\" points=\"654.43,-675.5 654.43,-696.5 748.43,-696.5 748.43,-675.5 654.43,-675.5\"/>\n<text text-anchor=\"start\" x=\"672.93\" y=\"-682.3\" font-family=\"Times,serif\" font-size=\"14.00\">LastName</text>\n<polygon fill=\"none\" stroke=\"black\" points=\"654.43,-654.5 654.43,-675.5 748.43,-675.5 748.43,-654.5 654.43,-654.5\"/>\n<text text-anchor=\"start\" x=\"674.43\" y=\"-661.3\" font-family=\"Times,serif\" font-size=\"14.00\">Company</text>\n<polygon fill=\"none\" stroke=\"black\" points=\"654.43,-633.5 654.43,-654.5 748.43,-654.5 748.43,-633.5 654.43,-633.5\"/>\n<text text-anchor=\"start\" x=\"678.93\" y=\"-640.3\" font-family=\"Times,serif\" font-size=\"14.00\">Address</text>\n<polygon fill=\"none\" stroke=\"black\" points=\"654.43,-612.5 654.43,-633.5 748.43,-633.5 748.43,-612.5 654.43,-612.5\"/>\n<text text-anchor=\"start\" x=\"689.43\" y=\"-619.3\" font-family=\"Times,serif\" font-size=\"14.00\">City</text>\n<polygon fill=\"none\" stroke=\"black\" points=\"654.43,-591.5 654.43,-612.5 748.43,-612.5 748.43,-591.5 654.43,-591.5\"/>\n<text text-anchor=\"start\" x=\"687.43\" y=\"-598.3\" font-family=\"Times,serif\" font-size=\"14.00\">State</text>\n<polygon fill=\"none\" stroke=\"black\" points=\"654.43,-570.5 654.43,-591.5 748.43,-591.5 748.43,-570.5 654.43,-570.5\"/>\n<text text-anchor=\"start\" x=\"678.93\" y=\"-577.3\" font-family=\"Times,serif\" font-size=\"14.00\">Country</text>\n<polygon fill=\"none\" stroke=\"black\" points=\"654.43,-549.5 654.43,-570.5 748.43,-570.5 748.43,-549.5 654.43,-549.5\"/>\n<text text-anchor=\"start\" x=\"670.43\" y=\"-556.3\" font-family=\"Times,serif\" font-size=\"14.00\">PostalCode</text>\n<polygon fill=\"none\" stroke=\"black\" points=\"654.43,-528.5 654.43,-549.5 748.43,-549.5 748.43,-528.5 654.43,-528.5\"/>\n<text text-anchor=\"start\" x=\"684.43\" y=\"-535.3\" font-family=\"Times,serif\" font-size=\"14.00\">Phone</text>\n<polygon fill=\"none\" stroke=\"black\" points=\"654.43,-507.5 654.43,-528.5 748.43,-528.5 748.43,-507.5 654.43,-507.5\"/>\n<text text-anchor=\"start\" x=\"690.93\" y=\"-514.3\" font-family=\"Times,serif\" font-size=\"14.00\">Fax</text>\n<polygon fill=\"none\" stroke=\"black\" points=\"654.43,-486.5 654.43,-507.5 748.43,-507.5 748.43,-486.5 654.43,-486.5\"/>\n<text text-anchor=\"start\" x=\"684.43\" y=\"-493.3\" font-family=\"Times,serif\" font-size=\"14.00\">Email</text>\n<polygon fill=\"none\" stroke=\"black\" points=\"654.43,-465.5 654.43,-486.5 748.43,-486.5 748.43,-465.5 654.43,-465.5\"/>\n<text text-anchor=\"start\" x=\"663.43\" y=\"-472.3\" font-family=\"Times,serif\" font-size=\"14.00\">SupportRepId</text>\n<polygon fill=\"none\" stroke=\"black\" points=\"653.43,-464.5 653.43,-760.5 749.43,-760.5 749.43,-464.5 653.43,-464.5\"/>\n</g>\n<!-- Employee -->\n<g id=\"node4\" class=\"node\">\n<title>Employee</title>\n<polygon fill=\"lightgray\" stroke=\"transparent\" points=\"937.43,-548.5 937.43,-569.5 1034.43,-569.5 1034.43,-548.5 937.43,-548.5\"/>\n<polygon fill=\"none\" stroke=\"black\" points=\"937.43,-548.5 937.43,-569.5 1034.43,-569.5 1034.43,-548.5 937.43,-548.5\"/>\n<text text-anchor=\"start\" x=\"957.93\" y=\"-555.3\" font-family=\"Times,serif\" font-size=\"14.00\">Employee</text>\n<polygon fill=\"#ffebcd\" stroke=\"transparent\" points=\"937.43,-527.5 937.43,-548.5 1034.43,-548.5 1034.43,-527.5 937.43,-527.5\"/>\n<polygon fill=\"none\" stroke=\"black\" points=\"937.43,-527.5 937.43,-548.5 1034.43,-548.5 1034.43,-527.5 937.43,-527.5\"/>\n<text text-anchor=\"start\" x=\"940.43\" y=\"-534.3\" font-family=\"Times,serif\" font-size=\"14.00\">EmployeeId 🔑</text>\n<polygon fill=\"none\" stroke=\"black\" points=\"937.43,-506.5 937.43,-527.5 1034.43,-527.5 1034.43,-506.5 937.43,-506.5\"/>\n<text text-anchor=\"start\" x=\"957.43\" y=\"-513.3\" font-family=\"Times,serif\" font-size=\"14.00\">LastName</text>\n<polygon fill=\"none\" stroke=\"black\" points=\"937.43,-485.5 937.43,-506.5 1034.43,-506.5 1034.43,-485.5 937.43,-485.5\"/>\n<text text-anchor=\"start\" x=\"956.93\" y=\"-492.3\" font-family=\"Times,serif\" font-size=\"14.00\">FirstName</text>\n<polygon fill=\"none\" stroke=\"black\" points=\"937.43,-464.5 937.43,-485.5 1034.43,-485.5 1034.43,-464.5 937.43,-464.5\"/>\n<text text-anchor=\"start\" x=\"972.93\" y=\"-471.3\" font-family=\"Times,serif\" font-size=\"14.00\">Title</text>\n<polygon fill=\"none\" stroke=\"black\" points=\"937.43,-443.5 937.43,-464.5 1034.43,-464.5 1034.43,-443.5 937.43,-443.5\"/>\n<text text-anchor=\"start\" x=\"957.43\" y=\"-450.3\" font-family=\"Times,serif\" font-size=\"14.00\">ReportsTo</text>\n<polygon fill=\"none\" stroke=\"black\" points=\"937.43,-422.5 937.43,-443.5 1034.43,-443.5 1034.43,-422.5 937.43,-422.5\"/>\n<text text-anchor=\"start\" x=\"958.93\" y=\"-429.3\" font-family=\"Times,serif\" font-size=\"14.00\">BirthDate</text>\n<polygon fill=\"none\" stroke=\"black\" points=\"937.43,-401.5 937.43,-422.5 1034.43,-422.5 1034.43,-401.5 937.43,-401.5\"/>\n<text text-anchor=\"start\" x=\"960.93\" y=\"-408.3\" font-family=\"Times,serif\" font-size=\"14.00\">HireDate</text>\n<polygon fill=\"none\" stroke=\"black\" points=\"937.43,-380.5 937.43,-401.5 1034.43,-401.5 1034.43,-380.5 937.43,-380.5\"/>\n<text text-anchor=\"start\" x=\"963.43\" y=\"-387.3\" font-family=\"Times,serif\" font-size=\"14.00\">Address</text>\n<polygon fill=\"none\" stroke=\"black\" points=\"937.43,-359.5 937.43,-380.5 1034.43,-380.5 1034.43,-359.5 937.43,-359.5\"/>\n<text text-anchor=\"start\" x=\"973.93\" y=\"-366.3\" font-family=\"Times,serif\" font-size=\"14.00\">City</text>\n<polygon fill=\"none\" stroke=\"black\" points=\"937.43,-338.5 937.43,-359.5 1034.43,-359.5 1034.43,-338.5 937.43,-338.5\"/>\n<text text-anchor=\"start\" x=\"971.93\" y=\"-345.3\" font-family=\"Times,serif\" font-size=\"14.00\">State</text>\n<polygon fill=\"none\" stroke=\"black\" points=\"937.43,-317.5 937.43,-338.5 1034.43,-338.5 1034.43,-317.5 937.43,-317.5\"/>\n<text text-anchor=\"start\" x=\"963.43\" y=\"-324.3\" font-family=\"Times,serif\" font-size=\"14.00\">Country</text>\n<polygon fill=\"none\" stroke=\"black\" points=\"937.43,-296.5 937.43,-317.5 1034.43,-317.5 1034.43,-296.5 937.43,-296.5\"/>\n<text text-anchor=\"start\" x=\"954.93\" y=\"-303.3\" font-family=\"Times,serif\" font-size=\"14.00\">PostalCode</text>\n<polygon fill=\"none\" stroke=\"black\" points=\"937.43,-275.5 937.43,-296.5 1034.43,-296.5 1034.43,-275.5 937.43,-275.5\"/>\n<text text-anchor=\"start\" x=\"968.93\" y=\"-282.3\" font-family=\"Times,serif\" font-size=\"14.00\">Phone</text>\n<polygon fill=\"none\" stroke=\"black\" points=\"937.43,-254.5 937.43,-275.5 1034.43,-275.5 1034.43,-254.5 937.43,-254.5\"/>\n<text text-anchor=\"start\" x=\"975.43\" y=\"-261.3\" font-family=\"Times,serif\" font-size=\"14.00\">Fax</text>\n<polygon fill=\"none\" stroke=\"black\" points=\"937.43,-233.5 937.43,-254.5 1034.43,-254.5 1034.43,-233.5 937.43,-233.5\"/>\n<text text-anchor=\"start\" x=\"968.93\" y=\"-240.3\" font-family=\"Times,serif\" font-size=\"14.00\">Email</text>\n<polygon fill=\"none\" stroke=\"black\" points=\"935.93,-232.5 935.93,-570.5 1034.93,-570.5 1034.93,-232.5 935.93,-232.5\"/>\n</g>\n<!-- Customer&#45;&gt;Employee -->\n<g id=\"edge2\" class=\"edge\">\n<title>Customer:SupportRepId&#45;&gt;Employee:EmployeeId</title>\n<path fill=\"none\" stroke=\"black\" d=\"M749.43,-475.5C833.53,-475.5 847.65,-533.44 926.01,-538.19\"/>\n<polygon fill=\"black\" stroke=\"black\" points=\"926.33,-541.7 936.43,-538.5 926.54,-534.7 926.33,-541.7\"/>\n</g>\n<!-- Employee&#45;&gt;Employee -->\n<g id=\"edge3\" class=\"edge\">\n<title>Employee:ReportsTo&#45;&gt;Employee:EmployeeId</title>\n<path fill=\"none\" stroke=\"black\" d=\"M937.23,-450.4C869.36,-447.77 785.93,-456.26 785.93,-496.5 785.93,-534.78 861.41,-544.33 927.19,-542.9\"/>\n<polygon fill=\"black\" stroke=\"black\" points=\"927.34,-546.4 937.23,-542.6 927.13,-539.4 927.34,-546.4\"/>\n</g>\n<!-- Genre -->\n<g id=\"node5\" class=\"node\">\n<title>Genre</title>\n<polygon fill=\"lightgray\" stroke=\"transparent\" points=\"664.43,-85.5 664.43,-106.5 738.43,-106.5 738.43,-85.5 664.43,-85.5\"/>\n<polygon fill=\"none\" stroke=\"black\" points=\"664.43,-85.5 664.43,-106.5 738.43,-106.5 738.43,-85.5 664.43,-85.5\"/>\n<text text-anchor=\"start\" x=\"684.43\" y=\"-92.3\" font-family=\"Times,serif\" font-size=\"14.00\">Genre</text>\n<polygon fill=\"#ffebcd\" stroke=\"transparent\" points=\"664.43,-64.5 664.43,-85.5 738.43,-85.5 738.43,-64.5 664.43,-64.5\"/>\n<polygon fill=\"none\" stroke=\"black\" points=\"664.43,-64.5 664.43,-85.5 738.43,-85.5 738.43,-64.5 664.43,-64.5\"/>\n<text text-anchor=\"start\" x=\"667.43\" y=\"-71.3\" font-family=\"Times,serif\" font-size=\"14.00\">GenreId 🔑</text>\n<polygon fill=\"none\" stroke=\"black\" points=\"664.43,-43.5 664.43,-64.5 738.43,-64.5 738.43,-43.5 664.43,-43.5\"/>\n<text text-anchor=\"start\" x=\"684.43\" y=\"-50.3\" font-family=\"Times,serif\" font-size=\"14.00\">Name</text>\n<polygon fill=\"none\" stroke=\"black\" points=\"663.43,-43 663.43,-108 739.43,-108 739.43,-43 663.43,-43\"/>\n</g>\n<!-- Invoice -->\n<g id=\"node6\" class=\"node\">\n<title>Invoice</title>\n<polygon fill=\"lightgray\" stroke=\"transparent\" points=\"356.43,-554.5 356.43,-575.5 462.43,-575.5 462.43,-554.5 356.43,-554.5\"/>\n<polygon fill=\"none\" stroke=\"black\" points=\"356.43,-554.5 356.43,-575.5 462.43,-575.5 462.43,-554.5 356.43,-554.5\"/>\n<text text-anchor=\"start\" x=\"388.93\" y=\"-561.3\" font-family=\"Times,serif\" font-size=\"14.00\">Invoice</text>\n<polygon fill=\"#ffebcd\" stroke=\"transparent\" points=\"356.43,-533.5 356.43,-554.5 462.43,-554.5 462.43,-533.5 356.43,-533.5\"/>\n<polygon fill=\"none\" stroke=\"black\" points=\"356.43,-533.5 356.43,-554.5 462.43,-554.5 462.43,-533.5 356.43,-533.5\"/>\n<text text-anchor=\"start\" x=\"371.43\" y=\"-540.3\" font-family=\"Times,serif\" font-size=\"14.00\">InvoiceId 🔑</text>\n<polygon fill=\"none\" stroke=\"black\" points=\"356.43,-512.5 356.43,-533.5 462.43,-533.5 462.43,-512.5 356.43,-512.5\"/>\n<text text-anchor=\"start\" x=\"376.93\" y=\"-519.3\" font-family=\"Times,serif\" font-size=\"14.00\">CustomerId</text>\n<polygon fill=\"none\" stroke=\"black\" points=\"356.43,-491.5 356.43,-512.5 462.43,-512.5 462.43,-491.5 356.43,-491.5\"/>\n<text text-anchor=\"start\" x=\"375.93\" y=\"-498.3\" font-family=\"Times,serif\" font-size=\"14.00\">InvoiceDate</text>\n<polygon fill=\"none\" stroke=\"black\" points=\"356.43,-470.5 356.43,-491.5 462.43,-491.5 462.43,-470.5 356.43,-470.5\"/>\n<text text-anchor=\"start\" x=\"368.43\" y=\"-477.3\" font-family=\"Times,serif\" font-size=\"14.00\">BillingAddress</text>\n<polygon fill=\"none\" stroke=\"black\" points=\"356.43,-449.5 356.43,-470.5 462.43,-470.5 462.43,-449.5 356.43,-449.5\"/>\n<text text-anchor=\"start\" x=\"378.93\" y=\"-456.3\" font-family=\"Times,serif\" font-size=\"14.00\">BillingCity</text>\n<polygon fill=\"none\" stroke=\"black\" points=\"356.43,-428.5 356.43,-449.5 462.43,-449.5 462.43,-428.5 356.43,-428.5\"/>\n<text text-anchor=\"start\" x=\"376.93\" y=\"-435.3\" font-family=\"Times,serif\" font-size=\"14.00\">BillingState</text>\n<polygon fill=\"none\" stroke=\"black\" points=\"356.43,-407.5 356.43,-428.5 462.43,-428.5 462.43,-407.5 356.43,-407.5\"/>\n<text text-anchor=\"start\" x=\"368.43\" y=\"-414.3\" font-family=\"Times,serif\" font-size=\"14.00\">BillingCountry</text>\n<polygon fill=\"none\" stroke=\"black\" points=\"356.43,-386.5 356.43,-407.5 462.43,-407.5 462.43,-386.5 356.43,-386.5\"/>\n<text text-anchor=\"start\" x=\"359.43\" y=\"-393.3\" font-family=\"Times,serif\" font-size=\"14.00\">BillingPostalCode</text>\n<polygon fill=\"none\" stroke=\"black\" points=\"356.43,-365.5 356.43,-386.5 462.43,-386.5 462.43,-365.5 356.43,-365.5\"/>\n<text text-anchor=\"start\" x=\"395.43\" y=\"-372.3\" font-family=\"Times,serif\" font-size=\"14.00\">Total</text>\n<polygon fill=\"none\" stroke=\"black\" points=\"355.43,-364.5 355.43,-576.5 463.43,-576.5 463.43,-364.5 355.43,-364.5\"/>\n</g>\n<!-- Invoice&#45;&gt;Customer -->\n<g id=\"edge4\" class=\"edge\">\n<title>Invoice:CustomerId&#45;&gt;Customer:CustomerId</title>\n<path fill=\"none\" stroke=\"black\" d=\"M463.43,-523.5C584.14,-523.5 532.37,-717.05 643.31,-728.02\"/>\n<polygon fill=\"black\" stroke=\"black\" points=\"643.27,-731.52 653.43,-728.5 643.61,-724.53 643.27,-731.52\"/>\n</g>\n<!-- InvoiceLine -->\n<g id=\"node7\" class=\"node\">\n<title>InvoiceLine</title>\n<polygon fill=\"lightgray\" stroke=\"transparent\" points=\"61.43,-426.5 61.43,-447.5 167.43,-447.5 167.43,-426.5 61.43,-426.5\"/>\n<polygon fill=\"none\" stroke=\"black\" points=\"61.43,-426.5 61.43,-447.5 167.43,-447.5 167.43,-426.5 61.43,-426.5\"/>\n<text text-anchor=\"start\" x=\"81.43\" y=\"-433.3\" font-family=\"Times,serif\" font-size=\"14.00\">InvoiceLine</text>\n<polygon fill=\"#ffebcd\" stroke=\"transparent\" points=\"61.43,-405.5 61.43,-426.5 167.43,-426.5 167.43,-405.5 61.43,-405.5\"/>\n<polygon fill=\"none\" stroke=\"black\" points=\"61.43,-405.5 61.43,-426.5 167.43,-426.5 167.43,-405.5 61.43,-405.5\"/>\n<text text-anchor=\"start\" x=\"64.43\" y=\"-412.3\" font-family=\"Times,serif\" font-size=\"14.00\">InvoiceLineId 🔑</text>\n<polygon fill=\"none\" stroke=\"black\" points=\"61.43,-384.5 61.43,-405.5 167.43,-405.5 167.43,-384.5 61.43,-384.5\"/>\n<text text-anchor=\"start\" x=\"88.43\" y=\"-391.3\" font-family=\"Times,serif\" font-size=\"14.00\">InvoiceId</text>\n<polygon fill=\"none\" stroke=\"black\" points=\"61.43,-363.5 61.43,-384.5 167.43,-384.5 167.43,-363.5 61.43,-363.5\"/>\n<text text-anchor=\"start\" x=\"92.93\" y=\"-370.3\" font-family=\"Times,serif\" font-size=\"14.00\">TrackId</text>\n<polygon fill=\"none\" stroke=\"black\" points=\"61.43,-342.5 61.43,-363.5 167.43,-363.5 167.43,-342.5 61.43,-342.5\"/>\n<text text-anchor=\"start\" x=\"88.43\" y=\"-349.3\" font-family=\"Times,serif\" font-size=\"14.00\">UnitPrice</text>\n<polygon fill=\"none\" stroke=\"black\" points=\"61.43,-321.5 61.43,-342.5 167.43,-342.5 167.43,-321.5 61.43,-321.5\"/>\n<text text-anchor=\"start\" x=\"90.43\" y=\"-328.3\" font-family=\"Times,serif\" font-size=\"14.00\">Quantity</text>\n<polygon fill=\"none\" stroke=\"black\" points=\"60.43,-320.5 60.43,-448.5 168.43,-448.5 168.43,-320.5 60.43,-320.5\"/>\n</g>\n<!-- InvoiceLine&#45;&gt;Invoice -->\n<g id=\"edge6\" class=\"edge\">\n<title>InvoiceLine:InvoiceId&#45;&gt;Invoice:InvoiceId</title>\n<path fill=\"none\" stroke=\"black\" d=\"M168.43,-395.5C271.17,-395.5 250.71,-534.77 345.27,-544.02\"/>\n<polygon fill=\"black\" stroke=\"black\" points=\"345.27,-547.52 355.43,-544.5 345.61,-540.53 345.27,-547.52\"/>\n</g>\n<!-- Track -->\n<g id=\"node11\" class=\"node\">\n<title>Track</title>\n<polygon fill=\"lightgray\" stroke=\"transparent\" points=\"369.43,-285.5 369.43,-306.5 449.43,-306.5 449.43,-285.5 369.43,-285.5\"/>\n<polygon fill=\"none\" stroke=\"black\" points=\"369.43,-285.5 369.43,-306.5 449.43,-306.5 449.43,-285.5 369.43,-285.5\"/>\n<text text-anchor=\"start\" x=\"393.43\" y=\"-292.3\" font-family=\"Times,serif\" font-size=\"14.00\">Track</text>\n<polygon fill=\"#ffebcd\" stroke=\"transparent\" points=\"369.43,-264.5 369.43,-285.5 449.43,-285.5 449.43,-264.5 369.43,-264.5\"/>\n<polygon fill=\"none\" stroke=\"black\" points=\"369.43,-264.5 369.43,-285.5 449.43,-285.5 449.43,-264.5 369.43,-264.5\"/>\n<text text-anchor=\"start\" x=\"375.93\" y=\"-271.3\" font-family=\"Times,serif\" font-size=\"14.00\">TrackId 🔑</text>\n<polygon fill=\"none\" stroke=\"black\" points=\"369.43,-243.5 369.43,-264.5 449.43,-264.5 449.43,-243.5 369.43,-243.5\"/>\n<text text-anchor=\"start\" x=\"392.43\" y=\"-250.3\" font-family=\"Times,serif\" font-size=\"14.00\">Name</text>\n<polygon fill=\"none\" stroke=\"black\" points=\"369.43,-222.5 369.43,-243.5 449.43,-243.5 449.43,-222.5 369.43,-222.5\"/>\n<text text-anchor=\"start\" x=\"384.43\" y=\"-229.3\" font-family=\"Times,serif\" font-size=\"14.00\">AlbumId</text>\n<polygon fill=\"none\" stroke=\"black\" points=\"369.43,-201.5 369.43,-222.5 449.43,-222.5 449.43,-201.5 369.43,-201.5\"/>\n<text text-anchor=\"start\" x=\"372.43\" y=\"-208.3\" font-family=\"Times,serif\" font-size=\"14.00\">MediaTypeId</text>\n<polygon fill=\"none\" stroke=\"black\" points=\"369.43,-180.5 369.43,-201.5 449.43,-201.5 449.43,-180.5 369.43,-180.5\"/>\n<text text-anchor=\"start\" x=\"386.93\" y=\"-187.3\" font-family=\"Times,serif\" font-size=\"14.00\">GenreId</text>\n<polygon fill=\"none\" stroke=\"black\" points=\"369.43,-159.5 369.43,-180.5 449.43,-180.5 449.43,-159.5 369.43,-159.5\"/>\n<text text-anchor=\"start\" x=\"380.93\" y=\"-166.3\" font-family=\"Times,serif\" font-size=\"14.00\">Composer</text>\n<polygon fill=\"none\" stroke=\"black\" points=\"369.43,-138.5 369.43,-159.5 449.43,-159.5 449.43,-138.5 369.43,-138.5\"/>\n<text text-anchor=\"start\" x=\"373.93\" y=\"-145.3\" font-family=\"Times,serif\" font-size=\"14.00\">Milliseconds</text>\n<polygon fill=\"none\" stroke=\"black\" points=\"369.43,-117.5 369.43,-138.5 449.43,-138.5 449.43,-117.5 369.43,-117.5\"/>\n<text text-anchor=\"start\" x=\"393.93\" y=\"-124.3\" font-family=\"Times,serif\" font-size=\"14.00\">Bytes</text>\n<polygon fill=\"none\" stroke=\"black\" points=\"369.43,-96.5 369.43,-117.5 449.43,-117.5 449.43,-96.5 369.43,-96.5\"/>\n<text text-anchor=\"start\" x=\"383.43\" y=\"-103.3\" font-family=\"Times,serif\" font-size=\"14.00\">UnitPrice</text>\n<polygon fill=\"none\" stroke=\"black\" points=\"368.43,-95.5 368.43,-307.5 450.43,-307.5 450.43,-95.5 368.43,-95.5\"/>\n</g>\n<!-- InvoiceLine&#45;&gt;Track -->\n<g id=\"edge5\" class=\"edge\">\n<title>InvoiceLine:TrackId&#45;&gt;Track:TrackId</title>\n<path fill=\"none\" stroke=\"black\" d=\"M168.43,-373.5C263.94,-373.5 269.18,-282.27 358.34,-275.85\"/>\n<polygon fill=\"black\" stroke=\"black\" points=\"358.56,-279.35 368.43,-275.5 358.31,-272.35 358.56,-279.35\"/>\n</g>\n<!-- MediaType -->\n<g id=\"node8\" class=\"node\">\n<title>MediaType</title>\n<polygon fill=\"lightgray\" stroke=\"transparent\" points=\"650.43,-176.5 650.43,-197.5 753.43,-197.5 753.43,-176.5 650.43,-176.5\"/>\n<polygon fill=\"none\" stroke=\"black\" points=\"650.43,-176.5 650.43,-197.5 753.43,-197.5 753.43,-176.5 650.43,-176.5\"/>\n<text text-anchor=\"start\" x=\"670.43\" y=\"-183.3\" font-family=\"Times,serif\" font-size=\"14.00\">MediaType</text>\n<polygon fill=\"#ffebcd\" stroke=\"transparent\" points=\"650.43,-155.5 650.43,-176.5 753.43,-176.5 753.43,-155.5 650.43,-155.5\"/>\n<polygon fill=\"none\" stroke=\"black\" points=\"650.43,-155.5 650.43,-176.5 753.43,-176.5 753.43,-155.5 650.43,-155.5\"/>\n<text text-anchor=\"start\" x=\"653.43\" y=\"-162.3\" font-family=\"Times,serif\" font-size=\"14.00\">MediaTypeId 🔑</text>\n<polygon fill=\"none\" stroke=\"black\" points=\"650.43,-134.5 650.43,-155.5 753.43,-155.5 753.43,-134.5 650.43,-134.5\"/>\n<text text-anchor=\"start\" x=\"684.93\" y=\"-141.3\" font-family=\"Times,serif\" font-size=\"14.00\">Name</text>\n<polygon fill=\"none\" stroke=\"black\" points=\"648.93,-134 648.93,-199 753.93,-199 753.93,-134 648.93,-134\"/>\n</g>\n<!-- Playlist -->\n<g id=\"node9\" class=\"node\">\n<title>Playlist</title>\n<polygon fill=\"lightgray\" stroke=\"transparent\" points=\"368.43,-46.5 368.43,-67.5 450.43,-67.5 450.43,-46.5 368.43,-46.5\"/>\n<polygon fill=\"none\" stroke=\"black\" points=\"368.43,-46.5 368.43,-67.5 450.43,-67.5 450.43,-46.5 368.43,-46.5\"/>\n<text text-anchor=\"start\" x=\"388.93\" y=\"-53.3\" font-family=\"Times,serif\" font-size=\"14.00\">Playlist</text>\n<polygon fill=\"#ffebcd\" stroke=\"transparent\" points=\"368.43,-25.5 368.43,-46.5 450.43,-46.5 450.43,-25.5 368.43,-25.5\"/>\n<polygon fill=\"none\" stroke=\"black\" points=\"368.43,-25.5 368.43,-46.5 450.43,-46.5 450.43,-25.5 368.43,-25.5\"/>\n<text text-anchor=\"start\" x=\"371.43\" y=\"-32.3\" font-family=\"Times,serif\" font-size=\"14.00\">PlaylistId 🔑</text>\n<polygon fill=\"none\" stroke=\"black\" points=\"368.43,-4.5 368.43,-25.5 450.43,-25.5 450.43,-4.5 368.43,-4.5\"/>\n<text text-anchor=\"start\" x=\"392.43\" y=\"-11.3\" font-family=\"Times,serif\" font-size=\"14.00\">Name</text>\n<polygon fill=\"none\" stroke=\"black\" points=\"367.43,-4 367.43,-69 451.43,-69 451.43,-4 367.43,-4\"/>\n</g>\n<!-- PlaylistTrack -->\n<g id=\"node10\" class=\"node\">\n<title>PlaylistTrack</title>\n<polygon fill=\"lightgray\" stroke=\"transparent\" points=\"73.43,-208.5 73.43,-229.5 155.43,-229.5 155.43,-208.5 73.43,-208.5\"/>\n<polygon fill=\"none\" stroke=\"black\" points=\"73.43,-208.5 73.43,-229.5 155.43,-229.5 155.43,-208.5 73.43,-208.5\"/>\n<text text-anchor=\"start\" x=\"77.93\" y=\"-215.3\" font-family=\"Times,serif\" font-size=\"14.00\">PlaylistTrack</text>\n<polygon fill=\"#ffebcd\" stroke=\"transparent\" points=\"73.43,-187.5 73.43,-208.5 155.43,-208.5 155.43,-187.5 73.43,-187.5\"/>\n<polygon fill=\"none\" stroke=\"black\" points=\"73.43,-187.5 73.43,-208.5 155.43,-208.5 155.43,-187.5 73.43,-187.5\"/>\n<text text-anchor=\"start\" x=\"76.43\" y=\"-194.3\" font-family=\"Times,serif\" font-size=\"14.00\">PlaylistId 🔑</text>\n<polygon fill=\"#ffebcd\" stroke=\"transparent\" points=\"73.43,-166.5 73.43,-187.5 155.43,-187.5 155.43,-166.5 73.43,-166.5\"/>\n<polygon fill=\"none\" stroke=\"black\" points=\"73.43,-166.5 73.43,-187.5 155.43,-187.5 155.43,-166.5 73.43,-166.5\"/>\n<text text-anchor=\"start\" x=\"80.93\" y=\"-173.3\" font-family=\"Times,serif\" font-size=\"14.00\">TrackId 🔑</text>\n<polygon fill=\"none\" stroke=\"black\" points=\"72.43,-166 72.43,-231 156.43,-231 156.43,-166 72.43,-166\"/>\n</g>\n<!-- PlaylistTrack&#45;&gt;Playlist -->\n<g id=\"edge8\" class=\"edge\">\n<title>PlaylistTrack:PlaylistId&#45;&gt;Playlist:PlaylistId</title>\n<path fill=\"none\" stroke=\"black\" d=\"M156.43,-197.5C271.19,-197.5 250.57,-44.85 357.4,-35.91\"/>\n<polygon fill=\"black\" stroke=\"black\" points=\"357.58,-39.4 367.43,-35.5 357.29,-32.41 357.58,-39.4\"/>\n</g>\n<!-- PlaylistTrack&#45;&gt;Track -->\n<g id=\"edge7\" class=\"edge\">\n<title>PlaylistTrack:TrackId&#45;&gt;Track:TrackId</title>\n<path fill=\"none\" stroke=\"black\" d=\"M156.43,-176.5C256.97,-176.5 264.06,-269.03 358.39,-275.18\"/>\n<polygon fill=\"black\" stroke=\"black\" points=\"358.32,-278.68 368.43,-275.5 358.55,-271.68 358.32,-278.68\"/>\n</g>\n<!-- Track&#45;&gt;Album -->\n<g id=\"edge11\" class=\"edge\">\n<title>Track:AlbumId&#45;&gt;Album:AlbumId</title>\n<path fill=\"none\" stroke=\"black\" d=\"M450.43,-233.5C542.94,-233.5 563.97,-276.24 651.32,-279.32\"/>\n<polygon fill=\"black\" stroke=\"black\" points=\"651.37,-282.83 661.43,-279.5 651.49,-275.83 651.37,-282.83\"/>\n</g>\n<!-- Track&#45;&gt;Genre -->\n<g id=\"edge10\" class=\"edge\">\n<title>Track:GenreId&#45;&gt;Genre:GenreId</title>\n<path fill=\"none\" stroke=\"black\" d=\"M450.43,-190.5C554.75,-190.5 555.69,-81.86 653.34,-74.85\"/>\n<polygon fill=\"black\" stroke=\"black\" points=\"653.56,-78.35 663.43,-74.5 653.31,-71.35 653.56,-78.35\"/>\n</g>\n<!-- Track&#45;&gt;MediaType -->\n<g id=\"edge9\" class=\"edge\">\n<title>Track:MediaTypeId&#45;&gt;MediaType:MediaTypeId</title>\n<path fill=\"none\" stroke=\"black\" d=\"M450.43,-212.5C537.85,-212.5 557.13,-169.01 639.36,-165.7\"/>\n<polygon fill=\"black\" stroke=\"black\" points=\"639.5,-169.2 649.43,-165.5 639.36,-162.2 639.5,-169.2\"/>\n</g>\n<!-- cat -->\n<g id=\"node12\" class=\"node\">\n<title>cat</title>\n<polygon fill=\"lightgray\" stroke=\"transparent\" points=\"93.43,-538.5 93.43,-559.5 136.43,-559.5 136.43,-538.5 93.43,-538.5\"/>\n<polygon fill=\"none\" stroke=\"black\" points=\"93.43,-538.5 93.43,-559.5 136.43,-559.5 136.43,-538.5 93.43,-538.5\"/>\n<text text-anchor=\"start\" x=\"106.93\" y=\"-545.3\" font-family=\"Times,serif\" font-size=\"14.00\">cat</text>\n<polygon fill=\"#ffebcd\" stroke=\"transparent\" points=\"93.43,-517.5 93.43,-538.5 136.43,-538.5 136.43,-517.5 93.43,-517.5\"/>\n<polygon fill=\"none\" stroke=\"black\" points=\"93.43,-517.5 93.43,-538.5 136.43,-538.5 136.43,-517.5 93.43,-517.5\"/>\n<text text-anchor=\"start\" x=\"97.93\" y=\"-524.3\" font-family=\"Times,serif\" font-size=\"14.00\">id 🔑</text>\n<polygon fill=\"none\" stroke=\"black\" points=\"93.43,-496.5 93.43,-517.5 136.43,-517.5 136.43,-496.5 93.43,-496.5\"/>\n<text text-anchor=\"start\" x=\"99.43\" y=\"-503.3\" font-family=\"Times,serif\" font-size=\"14.00\">name</text>\n<polygon fill=\"none\" stroke=\"black\" points=\"93.43,-475.5 93.43,-496.5 136.43,-496.5 136.43,-475.5 93.43,-475.5\"/>\n<text text-anchor=\"start\" x=\"96.43\" y=\"-482.3\" font-family=\"Times,serif\" font-size=\"14.00\">weight</text>\n<polygon fill=\"none\" stroke=\"black\" points=\"91.93,-474.5 91.93,-560.5 136.93,-560.5 136.93,-474.5 91.93,-474.5\"/>\n</g>\n</g>\n</svg>\n",
            "text/plain": [
              "<graphviz.sources.Source at 0x7e1760148610>"
            ]
          },
          "metadata": {},
          "execution_count": 51
        }
      ],
      "source": [
        "diagram(db.tables)"
      ]
    },
    {
      "cell_type": "markdown",
      "metadata": {
        "id": "lAVcu_Mw-xc1"
      },
      "source": [
        "Pass a subset of tables to just diagram those. You can also adjust the size and aspect ratio."
      ]
    },
    {
      "cell_type": "code",
      "execution_count": 52,
      "metadata": {
        "id": "IWRDThBK-xc1",
        "outputId": "a232df0d-1152-43c6-b00e-21b539ce31a3",
        "colab": {
          "base_uri": "https://localhost:8080/",
          "height": 334
        }
      },
      "outputs": [
        {
          "output_type": "execute_result",
          "data": {
            "image/svg+xml": "<?xml version=\"1.0\" encoding=\"UTF-8\" standalone=\"no\"?>\n<!DOCTYPE svg PUBLIC \"-//W3C//DTD SVG 1.1//EN\"\n \"http://www.w3.org/Graphics/SVG/1.1/DTD/svg11.dtd\">\n<!-- Generated by graphviz version 2.43.0 (0)\n -->\n<!-- Title: G Pages: 1 -->\n<svg width=\"576pt\" height=\"235pt\"\n viewBox=\"0.00 0.00 576.00 234.77\" xmlns=\"http://www.w3.org/2000/svg\" xmlns:xlink=\"http://www.w3.org/1999/xlink\">\n<g id=\"graph0\" class=\"graph\" transform=\"scale(0.83 0.83) rotate(0) translate(4 280.5)\">\n<title>G</title>\n<polygon fill=\"white\" stroke=\"transparent\" points=\"-4,4 -4,-280.5 694,-280.5 694,4 -4,4\"/>\n<!-- Artist -->\n<g id=\"node1\" class=\"node\">\n<title>Artist</title>\n<polygon fill=\"lightgray\" stroke=\"transparent\" points=\"573,-208.5 573,-229.5 645,-229.5 645,-208.5 573,-208.5\"/>\n<polygon fill=\"none\" stroke=\"black\" points=\"573,-208.5 573,-229.5 645,-229.5 645,-208.5 573,-208.5\"/>\n<text text-anchor=\"start\" x=\"593.5\" y=\"-215.3\" font-family=\"Times,serif\" font-size=\"14.00\">Artist</text>\n<polygon fill=\"#ffebcd\" stroke=\"transparent\" points=\"573,-187.5 573,-208.5 645,-208.5 645,-187.5 573,-187.5\"/>\n<polygon fill=\"none\" stroke=\"black\" points=\"573,-187.5 573,-208.5 645,-208.5 645,-187.5 573,-187.5\"/>\n<text text-anchor=\"start\" x=\"576\" y=\"-194.3\" font-family=\"Times,serif\" font-size=\"14.00\">ArtistId 🔑</text>\n<polygon fill=\"none\" stroke=\"black\" points=\"573,-166.5 573,-187.5 645,-187.5 645,-166.5 573,-166.5\"/>\n<text text-anchor=\"start\" x=\"592\" y=\"-173.3\" font-family=\"Times,serif\" font-size=\"14.00\">Name</text>\n<polygon fill=\"none\" stroke=\"black\" points=\"572,-166 572,-231 646,-231 646,-166 572,-166\"/>\n</g>\n<!-- Album -->\n<g id=\"node2\" class=\"node\">\n<title>Album</title>\n<polygon fill=\"lightgray\" stroke=\"transparent\" points=\"313,-250.5 313,-271.5 392,-271.5 392,-250.5 313,-250.5\"/>\n<polygon fill=\"none\" stroke=\"black\" points=\"313,-250.5 313,-271.5 392,-271.5 392,-250.5 313,-250.5\"/>\n<text text-anchor=\"start\" x=\"333\" y=\"-257.3\" font-family=\"Times,serif\" font-size=\"14.00\">Album</text>\n<polygon fill=\"#ffebcd\" stroke=\"transparent\" points=\"313,-229.5 313,-250.5 392,-250.5 392,-229.5 313,-229.5\"/>\n<polygon fill=\"none\" stroke=\"black\" points=\"313,-229.5 313,-250.5 392,-250.5 392,-229.5 313,-229.5\"/>\n<text text-anchor=\"start\" x=\"316\" y=\"-236.3\" font-family=\"Times,serif\" font-size=\"14.00\">AlbumId 🔑</text>\n<polygon fill=\"none\" stroke=\"black\" points=\"313,-208.5 313,-229.5 392,-229.5 392,-208.5 313,-208.5\"/>\n<text text-anchor=\"start\" x=\"339.5\" y=\"-215.3\" font-family=\"Times,serif\" font-size=\"14.00\">Title</text>\n<polygon fill=\"none\" stroke=\"black\" points=\"313,-187.5 313,-208.5 392,-208.5 392,-187.5 313,-187.5\"/>\n<text text-anchor=\"start\" x=\"331\" y=\"-194.3\" font-family=\"Times,serif\" font-size=\"14.00\">ArtistId</text>\n<polygon fill=\"none\" stroke=\"black\" points=\"311.5,-186.5 311.5,-272.5 392.5,-272.5 392.5,-186.5 311.5,-186.5\"/>\n</g>\n<!-- Album&#45;&gt;Artist -->\n<g id=\"edge1\" class=\"edge\">\n<title>Album:ArtistId&#45;&gt;Artist:ArtistId</title>\n<path fill=\"none\" stroke=\"black\" d=\"M393,-197.5C468.98,-197.5 490.54,-197.5 561.63,-197.5\"/>\n<polygon fill=\"black\" stroke=\"black\" points=\"562,-201 572,-197.5 562,-194 562,-201\"/>\n</g>\n<!-- Track -->\n<g id=\"node3\" class=\"node\">\n<title>Track</title>\n<polygon fill=\"lightgray\" stroke=\"transparent\" points=\"49,-199.5 49,-220.5 129,-220.5 129,-199.5 49,-199.5\"/>\n<polygon fill=\"none\" stroke=\"black\" points=\"49,-199.5 49,-220.5 129,-220.5 129,-199.5 49,-199.5\"/>\n<text text-anchor=\"start\" x=\"73\" y=\"-206.3\" font-family=\"Times,serif\" font-size=\"14.00\">Track</text>\n<polygon fill=\"#ffebcd\" stroke=\"transparent\" points=\"49,-178.5 49,-199.5 129,-199.5 129,-178.5 49,-178.5\"/>\n<polygon fill=\"none\" stroke=\"black\" points=\"49,-178.5 49,-199.5 129,-199.5 129,-178.5 49,-178.5\"/>\n<text text-anchor=\"start\" x=\"55.5\" y=\"-185.3\" font-family=\"Times,serif\" font-size=\"14.00\">TrackId 🔑</text>\n<polygon fill=\"none\" stroke=\"black\" points=\"49,-157.5 49,-178.5 129,-178.5 129,-157.5 49,-157.5\"/>\n<text text-anchor=\"start\" x=\"72\" y=\"-164.3\" font-family=\"Times,serif\" font-size=\"14.00\">Name</text>\n<polygon fill=\"none\" stroke=\"black\" points=\"49,-136.5 49,-157.5 129,-157.5 129,-136.5 49,-136.5\"/>\n<text text-anchor=\"start\" x=\"64\" y=\"-143.3\" font-family=\"Times,serif\" font-size=\"14.00\">AlbumId</text>\n<polygon fill=\"none\" stroke=\"black\" points=\"49,-115.5 49,-136.5 129,-136.5 129,-115.5 49,-115.5\"/>\n<text text-anchor=\"start\" x=\"52\" y=\"-122.3\" font-family=\"Times,serif\" font-size=\"14.00\">MediaTypeId</text>\n<polygon fill=\"none\" stroke=\"black\" points=\"49,-94.5 49,-115.5 129,-115.5 129,-94.5 49,-94.5\"/>\n<text text-anchor=\"start\" x=\"66.5\" y=\"-101.3\" font-family=\"Times,serif\" font-size=\"14.00\">GenreId</text>\n<polygon fill=\"none\" stroke=\"black\" points=\"49,-73.5 49,-94.5 129,-94.5 129,-73.5 49,-73.5\"/>\n<text text-anchor=\"start\" x=\"60.5\" y=\"-80.3\" font-family=\"Times,serif\" font-size=\"14.00\">Composer</text>\n<polygon fill=\"none\" stroke=\"black\" points=\"49,-52.5 49,-73.5 129,-73.5 129,-52.5 49,-52.5\"/>\n<text text-anchor=\"start\" x=\"53.5\" y=\"-59.3\" font-family=\"Times,serif\" font-size=\"14.00\">Milliseconds</text>\n<polygon fill=\"none\" stroke=\"black\" points=\"49,-31.5 49,-52.5 129,-52.5 129,-31.5 49,-31.5\"/>\n<text text-anchor=\"start\" x=\"73.5\" y=\"-38.3\" font-family=\"Times,serif\" font-size=\"14.00\">Bytes</text>\n<polygon fill=\"none\" stroke=\"black\" points=\"49,-10.5 49,-31.5 129,-31.5 129,-10.5 49,-10.5\"/>\n<text text-anchor=\"start\" x=\"63\" y=\"-17.3\" font-family=\"Times,serif\" font-size=\"14.00\">UnitPrice</text>\n<polygon fill=\"none\" stroke=\"black\" points=\"48,-9.5 48,-221.5 130,-221.5 130,-9.5 48,-9.5\"/>\n</g>\n<!-- Track&#45;&gt;Album -->\n<g id=\"edge4\" class=\"edge\">\n<title>Track:AlbumId&#45;&gt;Album:AlbumId</title>\n<path fill=\"none\" stroke=\"black\" d=\"M130,-147.5C217.29,-147.5 221,-233.38 301.76,-240.09\"/>\n<polygon fill=\"black\" stroke=\"black\" points=\"301.87,-243.59 312,-240.5 302.15,-236.6 301.87,-243.59\"/>\n</g>\n<!-- Genre -->\n<g id=\"node4\" class=\"node\">\n<title>Genre</title>\n<polygon fill=\"lightgray\" stroke=\"transparent\" points=\"315,-46.5 315,-67.5 389,-67.5 389,-46.5 315,-46.5\"/>\n<polygon fill=\"none\" stroke=\"black\" points=\"315,-46.5 315,-67.5 389,-67.5 389,-46.5 315,-46.5\"/>\n<text text-anchor=\"start\" x=\"335\" y=\"-53.3\" font-family=\"Times,serif\" font-size=\"14.00\">Genre</text>\n<polygon fill=\"#ffebcd\" stroke=\"transparent\" points=\"315,-25.5 315,-46.5 389,-46.5 389,-25.5 315,-25.5\"/>\n<polygon fill=\"none\" stroke=\"black\" points=\"315,-25.5 315,-46.5 389,-46.5 389,-25.5 315,-25.5\"/>\n<text text-anchor=\"start\" x=\"318\" y=\"-32.3\" font-family=\"Times,serif\" font-size=\"14.00\">GenreId 🔑</text>\n<polygon fill=\"none\" stroke=\"black\" points=\"315,-4.5 315,-25.5 389,-25.5 389,-4.5 315,-4.5\"/>\n<text text-anchor=\"start\" x=\"335\" y=\"-11.3\" font-family=\"Times,serif\" font-size=\"14.00\">Name</text>\n<polygon fill=\"none\" stroke=\"black\" points=\"314,-4 314,-69 390,-69 390,-4 314,-4\"/>\n</g>\n<!-- Track&#45;&gt;Genre -->\n<g id=\"edge3\" class=\"edge\">\n<title>Track:GenreId&#45;&gt;Genre:GenreId</title>\n<path fill=\"none\" stroke=\"black\" d=\"M130,-104.5C213.76,-104.5 225.77,-41.04 303.64,-35.84\"/>\n<polygon fill=\"black\" stroke=\"black\" points=\"304.12,-39.32 314,-35.5 303.89,-32.33 304.12,-39.32\"/>\n</g>\n<!-- MediaType -->\n<g id=\"node5\" class=\"node\">\n<title>MediaType</title>\n<polygon fill=\"lightgray\" stroke=\"transparent\" points=\"301,-137.5 301,-158.5 404,-158.5 404,-137.5 301,-137.5\"/>\n<polygon fill=\"none\" stroke=\"black\" points=\"301,-137.5 301,-158.5 404,-158.5 404,-137.5 301,-137.5\"/>\n<text text-anchor=\"start\" x=\"321\" y=\"-144.3\" font-family=\"Times,serif\" font-size=\"14.00\">MediaType</text>\n<polygon fill=\"#ffebcd\" stroke=\"transparent\" points=\"301,-116.5 301,-137.5 404,-137.5 404,-116.5 301,-116.5\"/>\n<polygon fill=\"none\" stroke=\"black\" points=\"301,-116.5 301,-137.5 404,-137.5 404,-116.5 301,-116.5\"/>\n<text text-anchor=\"start\" x=\"304\" y=\"-123.3\" font-family=\"Times,serif\" font-size=\"14.00\">MediaTypeId 🔑</text>\n<polygon fill=\"none\" stroke=\"black\" points=\"301,-95.5 301,-116.5 404,-116.5 404,-95.5 301,-95.5\"/>\n<text text-anchor=\"start\" x=\"335.5\" y=\"-102.3\" font-family=\"Times,serif\" font-size=\"14.00\">Name</text>\n<polygon fill=\"none\" stroke=\"black\" points=\"299.5,-95 299.5,-160 404.5,-160 404.5,-95 299.5,-95\"/>\n</g>\n<!-- Track&#45;&gt;MediaType -->\n<g id=\"edge2\" class=\"edge\">\n<title>Track:MediaTypeId&#45;&gt;MediaType:MediaTypeId</title>\n<path fill=\"none\" stroke=\"black\" d=\"M130,-126.5C202.01,-126.5 222.55,-126.5 289.74,-126.5\"/>\n<polygon fill=\"black\" stroke=\"black\" points=\"290,-130 300,-126.5 290,-123 290,-130\"/>\n</g>\n</g>\n</svg>\n",
            "text/plain": [
              "<graphviz.sources.Source at 0x7e176014b1c0>"
            ]
          },
          "metadata": {},
          "execution_count": 52
        }
      ],
      "source": [
        "diagram(db.t['Artist','Album','Track','Genre','MediaType'], size=8, ratio=0.4)"
      ]
    },
    {
      "cell_type": "markdown",
      "metadata": {
        "id": "lYNEzZUO-xc2"
      },
      "source": [
        "## fin -"
      ]
    },
    {
      "cell_type": "code",
      "execution_count": 52,
      "metadata": {
        "id": "fevWBoAr-xc2"
      },
      "outputs": [],
      "source": []
    }
  ],
  "metadata": {
    "kernelspec": {
      "display_name": "python3",
      "language": "python",
      "name": "python3"
    },
    "colab": {
      "provenance": []
    }
  },
  "nbformat": 4,
  "nbformat_minor": 0
}